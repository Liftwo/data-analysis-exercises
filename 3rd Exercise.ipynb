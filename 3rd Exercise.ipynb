{
 "metadata": {
  "name": ""
 },
 "nbformat": 3,
 "nbformat_minor": 0,
 "worksheets": [
  {
   "cells": [
    {
     "cell_type": "heading",
     "level": 1,
     "metadata": {},
     "source": [
      "Data Analysis"
     ]
    },
    {
     "cell_type": "heading",
     "level": 2,
     "metadata": {},
     "source": [
      "3rd exercise"
     ]
    },
    {
     "cell_type": "heading",
     "level": 3,
     "metadata": {},
     "source": [
      "(IN PROGRESS)"
     ]
    },
    {
     "cell_type": "code",
     "collapsed": false,
     "input": [
      "#pandas\n",
      "import numpy as np\n",
      "import pandas as pd"
     ],
     "language": "python",
     "metadata": {},
     "outputs": [],
     "prompt_number": 1
    },
    {
     "cell_type": "code",
     "collapsed": false,
     "input": [
      "#geographic data\n",
      "from GeoBases import GeoBase\n",
      "geo_a = GeoBase(data='airports', verbose=False)\n",
      "#other things that might be useful\n",
      "geo_o = GeoBase(data='ori_por', verbose=False)\n",
      "#geo_t = GeoBase(data='stations', verbose=False)"
     ],
     "language": "python",
     "metadata": {},
     "outputs": [],
     "prompt_number": 2
    },
    {
     "cell_type": "markdown",
     "metadata": {},
     "source": [
      "Get the airport codes for the airports in Malaga Madrid and Barcelona"
     ]
    },
    {
     "cell_type": "code",
     "collapsed": false,
     "input": [
      "print(geo_a.fuzzyFind('Madrid', 'name'))\n",
      "print(geo_a.fuzzyFind('Barcelona', 'name'))\n",
      "print(geo_a.fuzzyFind('Malaga', 'name'))"
     ],
     "language": "python",
     "metadata": {},
     "outputs": [
      {
       "output_type": "stream",
       "stream": "stdout",
       "text": [
        "[(0.9, 'MAD'), (0.7692307692307693, 'IXM')]\n",
        "[(0.9, 'BCN'), (0.7777777777777778, 'QAK')]"
       ]
      },
      {
       "output_type": "stream",
       "stream": "stdout",
       "text": [
        "\n",
        "[(0.9, 'AGP'), (0.7692307692307693, 'PLQ'), (0.7692307692307693, 'MAK')]"
       ]
      },
      {
       "output_type": "stream",
       "stream": "stdout",
       "text": [
        "\n"
       ]
      }
     ],
     "prompt_number": 3
    },
    {
     "cell_type": "markdown",
     "metadata": {},
     "source": [
      "Verify airport names, and see which ones are the airports belonging to Madrid, Barcelona and Malaga"
     ]
    },
    {
     "cell_type": "code",
     "collapsed": false,
     "input": [
      "print(\"MAD: \", geo_o.get('MAD', 'name'))\n",
      "print(\"---------------\")\n",
      "print(\"IXM: \",geo_o.get('IXM', 'name')) #NO\n",
      "print(\"---------------\")\n",
      "print(\"BCN: \",geo_o.get('BCN', 'name'))\n",
      "print(\"---------------\")\n",
      "print(\"WAK: \",geo_o.get('WAK', 'name')) #NO\n",
      "print(\"---------------\")\n",
      "print(\"AGP: \",geo_o.get('AGP', 'name'))\n",
      "print(\"---------------\")\n",
      "print(\"PLQ: \",geo_o.get('PLQ', 'name')) #NO\n",
      "print(\"---------------\")\n",
      "print(\"MAK: \",geo_o.get('MAK', 'name')) #NO"
     ],
     "language": "python",
     "metadata": {},
     "outputs": [
      {
       "output_type": "stream",
       "stream": "stdout",
       "text": [
        "('MAD: ', 'Madrid / Barajas')\n",
        "---------------\n",
        "('IXM: ', 'Madurai Airport')\n",
        "---------------\n",
        "('BCN: ', 'Barcelona\\xe2\\x80\\x93El Prat Airport')\n",
        "---------------\n",
        "('WAK: ', 'Ankazoabo')\n",
        "---------------\n",
        "('AGP: ', 'M\\xc3\\xa1laga Airport')\n",
        "---------------\n",
        "('PLQ: ', 'Palanga International Airport')\n",
        "---------------\n",
        "('MAK: ', 'Malakal Airport')\n"
       ]
      }
     ],
     "prompt_number": 4
    },
    {
     "cell_type": "markdown",
     "metadata": {},
     "source": [
      "Converter helper functions for transform data on load"
     ]
    },
    {
     "cell_type": "code",
     "collapsed": false,
     "input": [
      "from datetime import date\n",
      "\n",
      "def strip_field(data):\n",
      "    \"\"\"\n",
      "    strip white characters from input data if is string\n",
      "    \"\"\"\n",
      "    if type(data) == str:\n",
      "        return data.strip()\n",
      "    return data\n",
      "\n",
      "def to_date(data):\n",
      "    \"\"\"\n",
      "    converts input data in yyyy-mm-dd format to Pandas Timestamp object.\n",
      "    If it fails returns original object\n",
      "    \"\"\"\n",
      "    try:\n",
      "        return pd.Timestamp(data)\n",
      "    except:\n",
      "        return data\n",
      "    "
     ],
     "language": "python",
     "metadata": {},
     "outputs": [],
     "prompt_number": 5
    },
    {
     "cell_type": "markdown",
     "metadata": {},
     "source": [
      "To make a memory usage estimation, first I do:\n",
      "\n",
      "    head searches.csv > headsearch.csv\n",
      "\n",
      "then I start checking memory usage and estimate for the whole dataset"
     ]
    },
    {
     "cell_type": "code",
     "collapsed": false,
     "input": [
      "%time srch_test = pd.read_table('headsearch.csv',sep='^', usecols=['Date','Destination'], converters={'Date':to_date, 'Destination': strip_field})"
     ],
     "language": "python",
     "metadata": {},
     "outputs": [
      {
       "output_type": "stream",
       "stream": "stdout",
       "text": [
        "CPU times: user 949 \u00b5s, sys: 3.95 ms, total: 4.9 ms\n",
        "Wall time: 122 ms\n"
       ]
      }
     ],
     "prompt_number": 6
    },
    {
     "cell_type": "code",
     "collapsed": false,
     "input": [
      "srch_test.dtypes"
     ],
     "language": "python",
     "metadata": {},
     "outputs": [
      {
       "metadata": {},
       "output_type": "pyout",
       "prompt_number": 7,
       "text": [
        "Date           datetime64[ns]\n",
        "Destination            object\n",
        "dtype: object"
       ]
      }
     ],
     "prompt_number": 7
    },
    {
     "cell_type": "code",
     "collapsed": false,
     "input": [
      "srch_test[:1].Date.nbytes"
     ],
     "language": "python",
     "metadata": {},
     "outputs": [
      {
       "metadata": {},
       "output_type": "pyout",
       "prompt_number": 8,
       "text": [
        "8"
       ]
      }
     ],
     "prompt_number": 8
    },
    {
     "cell_type": "code",
     "collapsed": false,
     "input": [
      "srch_test[:1].Destination.nbytes"
     ],
     "language": "python",
     "metadata": {},
     "outputs": [
      {
       "metadata": {},
       "output_type": "pyout",
       "prompt_number": 9,
       "text": [
        "8"
       ]
      }
     ],
     "prompt_number": 9
    },
    {
     "cell_type": "code",
     "collapsed": false,
     "input": [
      "srch_test.memory_usage(index=True)"
     ],
     "language": "python",
     "metadata": {},
     "outputs": [
      {
       "metadata": {},
       "output_type": "pyout",
       "prompt_number": 10,
       "text": [
        "Index          72\n",
        "Date           72\n",
        "Destination    72\n",
        "dtype: int64"
       ]
      }
     ],
     "prompt_number": 10
    },
    {
     "cell_type": "markdown",
     "metadata": {},
     "source": [
      "####Memory estimation\n",
      "\n",
      "There are ~ 20M registers (1st exercise) \n",
      "    \n",
      "    index: int64 (8 bytes), Date: 8bytes, Destination: 8bytes\n",
      "    20M* (8*3) bytes"
     ]
    },
    {
     "cell_type": "code",
     "collapsed": false,
     "input": [
      "20 * 8 * 3"
     ],
     "language": "python",
     "metadata": {},
     "outputs": [
      {
       "metadata": {},
       "output_type": "pyout",
       "prompt_number": 11,
       "text": [
        "480"
       ]
      }
     ],
     "prompt_number": 11
    },
    {
     "cell_type": "markdown",
     "metadata": {},
     "source": [
      "Aproximately 480MB for the whole data structure in memory\n",
      "\n",
      "I should be able to load everything in RAM"
     ]
    },
    {
     "cell_type": "code",
     "collapsed": false,
     "input": [
      "#cleanup test\n",
      "del(srch_test)"
     ],
     "language": "python",
     "metadata": {},
     "outputs": [],
     "prompt_number": 12
    },
    {
     "cell_type": "markdown",
     "metadata": {},
     "source": [
      "####Loading data"
     ]
    },
    {
     "cell_type": "code",
     "collapsed": false,
     "input": [
      "%time srch = pd.read_table('searches.csv',sep='^', usecols=['Date','Destination'], converters={'Date':to_date, 'Destination': strip_field})"
     ],
     "language": "python",
     "metadata": {},
     "outputs": [
      {
       "output_type": "stream",
       "stream": "stdout",
       "text": [
        "CPU times: user 1min 1s, sys: 5.06 s, total: 1min 6s\n",
        "Wall time: 1min 18s\n"
       ]
      }
     ],
     "prompt_number": 14
    },
    {
     "cell_type": "markdown",
     "metadata": {},
     "source": [
      "####Filtering data\n",
      "\n",
      "Preselect only the airports that are needed, time for reference"
     ]
    },
    {
     "cell_type": "code",
     "collapsed": false,
     "input": [
      "%time s_ports = srch[srch.Destination.isin([\"MAD\", \"BCN\",\"AGP\"])]"
     ],
     "language": "python",
     "metadata": {},
     "outputs": [
      {
       "output_type": "stream",
       "stream": "stdout",
       "text": [
        "CPU times: user 1.25 s, sys: 71 ms, total: 1.32 s\n",
        "Wall time: 1.42 s\n"
       ]
      }
     ],
     "prompt_number": 15
    },
    {
     "cell_type": "markdown",
     "metadata": {},
     "source": [
      "####Visual Check"
     ]
    },
    {
     "cell_type": "markdown",
     "metadata": {},
     "source": [
      "Memory check"
     ]
    },
    {
     "cell_type": "code",
     "collapsed": false,
     "input": [
      "dfs = {\"srch\": srch,\n",
      "       \"s_ports\": s_ports,\n",
      "      }\n",
      "\n",
      "for k,v in dfs.iteritems():\n",
      "    print (k+\" mem: %f MB\" % (v.memory_usage(index=True).sum()/1024000.0))\n"
     ],
     "language": "python",
     "metadata": {},
     "outputs": [
      {
       "output_type": "stream",
       "stream": "stdout",
       "text": [
        "s_ports mem: 15.852703 MB\n",
        "srch mem: 477.895266 MB\n"
       ]
      }
     ],
     "prompt_number": 16
    },
    {
     "cell_type": "markdown",
     "metadata": {},
     "source": [
      "Content check"
     ]
    },
    {
     "cell_type": "code",
     "collapsed": false,
     "input": [
      "print (s_ports)"
     ],
     "language": "python",
     "metadata": {},
     "outputs": [
      {
       "output_type": "stream",
       "stream": "stdout",
       "text": [
        "                         Date Destination\n",
        "4         2013-01-01 00:00:00         MAD\n",
        "93        2013-01-01 00:00:00         AGP\n",
        "113       2013-01-01 00:00:00         BCN\n",
        "147       2013-01-01 00:00:00         AGP\n",
        "151       2013-01-01 00:00:00         MAD\n",
        "165       2013-01-01 00:00:00         BCN\n",
        "177       2013-01-01 00:00:00         BCN\n",
        "186       2013-01-01 00:00:00         BCN\n",
        "188       2013-01-01 00:00:00         BCN\n",
        "208       2013-01-01 00:00:00         BCN\n",
        "229       2013-01-01 00:00:00         BCN\n",
        "242       2013-01-01 00:00:00         AGP\n",
        "253       2013-01-01 00:00:00         BCN\n",
        "322       2013-01-01 00:00:00         BCN\n",
        "365       2013-01-01 00:00:00         BCN\n",
        "375       2013-01-01 00:00:00         MAD\n",
        "406       2013-01-01 00:00:00         MAD\n",
        "458       2013-01-01 00:00:00         AGP\n",
        "481       2013-01-01 00:00:00         BCN\n",
        "500       2013-01-01 00:00:00         BCN\n",
        "509       2013-01-01 00:00:00         MAD\n",
        "541       2013-01-01 00:00:00         BCN\n",
        "593       2013-01-01 00:00:00         BCN\n",
        "606       2013-01-01 00:00:00         MAD\n",
        "618       2013-01-01 00:00:00         BCN\n",
        "623       2013-01-01 00:00:00         BCN\n",
        "628       2013-01-01 00:00:00         BCN\n",
        "633       2013-01-01 00:00:00         BCN\n",
        "641       2013-01-01 00:00:00         BCN\n",
        "674       2013-01-01 00:00:00         AGP\n",
        "...                       ...         ...\n",
        "20389101  2013-10-12 00:00:00         MAD\n",
        "20389110  2013-10-12 00:00:00         BCN\n",
        "20389160  2013-10-12 00:00:00         MAD\n",
        "20389172  2013-10-12 00:00:00         BCN\n",
        "20389185  2013-10-12 00:00:00         BCN\n",
        "20389206  2013-10-12 00:00:00         MAD\n",
        "20389343  2013-10-13 00:00:00         BCN\n",
        "20389409  2013-10-13 00:00:00         AGP\n",
        "20389437  2013-10-13 00:00:00         BCN\n",
        "20389478  2013-10-13 00:00:00         BCN\n",
        "20389489  2013-10-13 00:00:00         BCN\n",
        "20389517  2013-10-13 00:00:00         BCN\n",
        "20389521  2013-10-13 00:00:00         BCN\n",
        "20389552  2013-10-13 00:00:00         BCN\n",
        "20389555  2013-10-13 00:00:00         MAD\n",
        "20389558  2013-10-13 00:00:00         BCN\n",
        "20389586  2013-10-13 00:00:00         BCN\n",
        "20389617  2013-10-13 00:00:00         AGP\n",
        "20389748  2013-10-13 00:00:00         MAD\n",
        "20389790  2013-10-13 00:00:00         BCN\n",
        "20389812  2013-10-13 00:00:00         BCN\n",
        "20389834  2013-10-13 00:00:00         MAD\n",
        "20389865  2013-10-13 00:00:00         BCN\n",
        "20389878  2013-10-13 00:00:00         BCN\n",
        "20389955  2013-10-13 00:00:00         BCN\n",
        "20389978  2013-10-13 00:00:00         BCN\n",
        "20390045  2013-10-13 00:00:00         MAD\n",
        "20390073  2013-10-13 00:00:00         AGP\n",
        "20390160  2013-10-13 00:00:00         MAD\n",
        "20390196  2013-10-13 00:00:00         MAD\n",
        "\n",
        "[676382 rows x 2 columns]\n"
       ]
      }
     ],
     "prompt_number": 17
    },
    {
     "cell_type": "markdown",
     "metadata": {},
     "source": [
      "Inspecting some things"
     ]
    },
    {
     "cell_type": "code",
     "collapsed": false,
     "input": [
      "s_ports.groupby('Destination').size()"
     ],
     "language": "python",
     "metadata": {},
     "outputs": [
      {
       "metadata": {},
       "output_type": "pyout",
       "prompt_number": 18,
       "text": [
        "Destination\n",
        "AGP             97177\n",
        "BCN            310062\n",
        "MAD            269143\n",
        "dtype: int64"
       ]
      }
     ],
     "prompt_number": 18
    },
    {
     "cell_type": "heading",
     "level": 3,
     "metadata": {},
     "source": [
      "Pure Python"
     ]
    },
    {
     "cell_type": "markdown",
     "metadata": {},
     "source": [
      "cleanup everything (memory)"
     ]
    },
    {
     "cell_type": "code",
     "collapsed": false,
     "input": [
      "%reset\n",
      "import gc\n",
      "gc.collect()"
     ],
     "language": "python",
     "metadata": {},
     "outputs": [
      {
       "name": "stdout",
       "output_type": "stream",
       "stream": "stdout",
       "text": [
        "Once deleted, variables cannot be recovered. Proceed (y/[n])? y\n"
       ]
      },
      {
       "metadata": {},
       "output_type": "pyout",
       "prompt_number": 24,
       "text": [
        "0"
       ]
      }
     ],
     "prompt_number": 24
    },
    {
     "cell_type": "code",
     "collapsed": false,
     "input": [
      "import datetime"
     ],
     "language": "python",
     "metadata": {},
     "outputs": [],
     "prompt_number": 25
    },
    {
     "cell_type": "markdown",
     "metadata": {},
     "source": [
      "get header, headsearch.csv is the result of:\n",
      "\n",
      "    head searches.csv > headsearch.csv"
     ]
    },
    {
     "cell_type": "code",
     "collapsed": false,
     "input": [
      "headers = None\n",
      "with open('headsearch.csv', 'r') as f:\n",
      "    for l in f:\n",
      "        fields = [i.strip() for i in l.split('^')]\n",
      "        if headers is None:\n",
      "            headers = fields\n",
      "            break\n",
      "\n",
      "#get IATA code index\n",
      "dest_idx = headers.index('Destination')\n",
      "#get timestamp index\n",
      "date_idx = headers.index('Date')\n"
     ],
     "language": "python",
     "metadata": {},
     "outputs": [],
     "prompt_number": 26
    },
    {
     "cell_type": "code",
     "collapsed": false,
     "input": [
      "print (\"idx destination = %d, idx date = %d\" % (dest_idx,date_idx))"
     ],
     "language": "python",
     "metadata": {},
     "outputs": [
      {
       "output_type": "stream",
       "stream": "stdout",
       "text": [
        "idx destination = 6, idx date = 0\n"
       ]
      }
     ],
     "prompt_number": 27
    },
    {
     "cell_type": "markdown",
     "metadata": {},
     "source": [
      "visual check"
     ]
    },
    {
     "cell_type": "code",
     "collapsed": false,
     "input": [
      "!head -n 2 headsearch.csv"
     ],
     "language": "python",
     "metadata": {},
     "outputs": [
      {
       "output_type": "stream",
       "stream": "stdout",
       "text": [
        "Date^Time^TxnCode^OfficeID^Country^Origin^Destination^RoundTrip^NbSegments^Seg1Departure^Seg1Arrival^Seg1Date^Seg1Carrier^Seg1BookingCode^Seg2Departure^Seg2Arrival^Seg2Date^Seg2Carrier^Seg2BookingCode^Seg3Departure^Seg3Arrival^Seg3Date^Seg3Carrier^Seg3BookingCode^Seg4Departure^Seg4Arrival^Seg4Date^Seg4Carrier^Seg4BookingCode^Seg5Departure^Seg5Arrival^Seg5Date^Seg5Carrier^Seg5BookingCode^Seg6Departure^Seg6Arrival^Seg6Date^Seg6Carrier^Seg6BookingCode^From^IsPublishedForNeg^IsFromInternet^IsFromVista^TerminalID^InternetOffice\r\n",
        "2013-01-01^20:25:57^MPT^624d8c3ac0b3a7ca03e3c167e0f48327^DE^TXL^AUH^1^2^TXL^AUH^2013-01-26^D2^^AUH^TXL^2013-02-02^D2^^^^^^^^^^^^^^^^^^^^^^1ASIWS^0^0^0^d41d8cd98f00b204e9800998ecf8427e^FRA\r\n"
       ]
      }
     ],
     "prompt_number": 29
    },
    {
     "cell_type": "markdown",
     "metadata": {},
     "source": [
      "Ports and dates where we want to measure arrivals"
     ]
    },
    {
     "cell_type": "code",
     "collapsed": false,
     "input": [
      "PORTS = [\"MAD\", \"BCN\",\"AGP\"]\n",
      "YEARS = [2013]"
     ],
     "language": "python",
     "metadata": {},
     "outputs": [],
     "prompt_number": 31
    },
    {
     "cell_type": "code",
     "collapsed": false,
     "input": [
      "#define function that makes the processing\n",
      "def group_by_port_and_month(fname):\n",
      "    \"\"\"\n",
      "    Opens the file, parses it and makes the sum of passengers by month in each arrival port\n",
      "    fname: name of the file containing the searches data\n",
      "    \"\"\"\n",
      "    arr_dict = {}\n",
      "    with open(fname, 'r') as f:\n",
      "        for l in f:\n",
      "            fields = [i.strip() for i in l.split('^')]\n",
      "            #be careful with empty fields \n",
      "            try:\n",
      "                #get destination IATA code\n",
      "                dst = fields[dest_idx]\n",
      "                #avoid innecessary processing\n",
      "                if dst in PORTS:\n",
      "                    #get timestamp\n",
      "                    ts = datetime.datetime.strptime(fields[date_idx], \"%Y-%m-%d\")\n",
      "                    #check is in YEARS\n",
      "                    if ts.year in YEARS:\n",
      "                        #sum\n",
      "                        if dst not in arr_dict:\n",
      "                            arr_dict[dst] = [0 for i in range(12)]\n",
      "                        #count\n",
      "                        arr_dict[dst][ts.month -1] +=1\n",
      "            except Exception as e:\n",
      "                print (\"ERROR: %s | Reading: %s \" %(e,l))\n",
      "                pass\n",
      "    return arr_dict\n"
     ],
     "language": "python",
     "metadata": {},
     "outputs": [],
     "prompt_number": 55
    },
    {
     "cell_type": "markdown",
     "metadata": {},
     "source": [
      "make the dictionary that contains the sums"
     ]
    },
    {
     "cell_type": "code",
     "collapsed": false,
     "input": [
      "%time counts = group_by_port_and_month('searches.csv')"
     ],
     "language": "python",
     "metadata": {},
     "outputs": [
      {
       "output_type": "stream",
       "stream": "stdout",
       "text": [
        "ERROR list index out of range reading 2013-01-01,10:15:33,MPT,b0af35b31588dc4ab06d5cf2986e8e02,MD,ATH,MIL,0,1,ATH,MIL,2013-01-04,,,,,,,,,,,,,,,,,,,,,,,,,,,,1ASIWS,0,0,0,d41d8cd98f00b204e9800998ecf8427e,KIV\n",
        " \n",
        "ERROR list index out of range reading 2013-01-01,10:15:33,MPT,b0af35b31588dc4ab06d5cf2986e8e02,MD,ATH,MIL,0,1,ATH,MIL,2013-01-04,,,,,,,,,,,,,,,,,,,,,,,,,,,,1ASIWS,0,0,0,d41d8cd98f00b204e9800998ecf8427e,KIV\n",
        " "
       ]
      },
      {
       "output_type": "stream",
       "stream": "stdout",
       "text": [
        "\n",
        "ERROR list index out of range reading 2013-01-01,10:15:33,MPT,b0af35b31588dc4ab06d5cf2986e8e02,MD,ATH,MIL,0,1,ATH,MIL,2013-01-04,,,,,,,,,,,,,,,,,,,,,,,,,,,,1ASIWS,0,0,0,d41d8cd98f00b204e9800998ecf8427e,KIV\n",
        " \n",
        "ERROR list index out of range reading 2013-01-01,10:15:33,MPT,b0af35b31588dc4ab06d5cf2986e8e02,MD,ATH,MIL,0,1,ATH,MIL,2013-01-04,,,,,,,,,,,,,,,,,,,,,,,,,,,,1ASIWS,0,0,0,d41d8cd98f00b204e9800998ecf8427e,KIV\n",
        " "
       ]
      },
      {
       "output_type": "stream",
       "stream": "stdout",
       "text": [
        "\n",
        "ERROR list index out of range reading 2013-01-01,10:15:33,MPT,b0af35b31588dc4ab06d5cf2986e8e02,MD,ATH,MIL,0,1,ATH,MIL,2013-01-04,,,,,,,,,,,,,,,,,,,,,,,,,,,,1ASIWS,0,0,0,d41d8cd98f00b204e9800998ecf8427e,KIV\n",
        " "
       ]
      },
      {
       "output_type": "stream",
       "stream": "stdout",
       "text": [
        "\n",
        "ERROR list index out of range reading 2013-01-01,10:15:33,MPT,b0af35b31588dc4ab06d5cf2986e8e02,MD,ATH,MIL,0,1,ATH,MIL,2013-01-04,,,,,,,,,,,,,,,,,,,,,,,,,,,,1ASIWS,0,0,0,d41d8cd98f00b204e9800998ecf8427e,KIV\n",
        " \n",
        "ERROR list index out of range reading 2013-01-01,10:15:33,MPT,b0af35b31588dc4ab06d5cf2986e8e02,MD,ATH,MIL,0,1,ATH,MIL,2013-01-04,,,,,,,,,,,,,,,,,,,,,,,,,,,,1ASIWS,0,0,0,d41d8cd98f00b204e9800998ecf8427e,KIV\n",
        " "
       ]
      },
      {
       "output_type": "stream",
       "stream": "stdout",
       "text": [
        "\n",
        "ERROR list index out of range reading 2013-01-01,10:15:33,MPT,b0af35b31588dc4ab06d5cf2986e8e02,MD,ATH,MIL,0,1,ATH,MIL,2013-01-04,,,,,,,,,,,,,,,,,,,,,,,,,,,,1ASIWS,0,0,0,d41d8cd98f00b204e9800998ecf8427e,KIV\n",
        " "
       ]
      },
      {
       "output_type": "stream",
       "stream": "stdout",
       "text": [
        "\n",
        "ERROR list index out of range reading 2013-01-01,10:15:33,MPT,b0af35b31588dc4ab06d5cf2986e8e02,MD,ATH,MIL,0,1,ATH,MIL,2013-01-04,,,,,,,,,,,,,,,,,,,,,,,,,,,,1ASIWS,0,0,0,d41d8cd98f00b204e9800998ecf8427e,KIV\n",
        " \n",
        "ERROR list index out of range reading 2013-01-01,10:15:33,MPT,b0af35b31588dc4ab06d5cf2986e8e02,MD,ATH,MIL,0,1,ATH,MIL,2013-01-04,,,,,,,,,,,,,,,,,,,,,,,,,,,,1ASIWS,0,0,0,d41d8cd98f00b204e9800998ecf8427e,KIV\n",
        " "
       ]
      },
      {
       "output_type": "stream",
       "stream": "stdout",
       "text": [
        "\n",
        "ERROR list index out of range reading 2013-01-01,10:15:33,MPT,b0af35b31588dc4ab06d5cf2986e8e02,MD,ATH,MIL,0,1,ATH,MIL,2013-01-04,,,,,,,,,,,,,,,,,,,,,,,,,,,,1ASIWS,0,0,0,d41d8cd98f00b204e9800998ecf8427e,KIV\n",
        " "
       ]
      },
      {
       "output_type": "stream",
       "stream": "stdout",
       "text": [
        "\n",
        "ERROR list index out of range reading 2013-01-01,10:15:33,MPT,b0af35b31588dc4ab06d5cf2986e8e02,MD,ATH,MIL,0,1,ATH,MIL,2013-01-04,,,,,,,,,,,,,,,,,,,,,,,,,,,,1ASIWS,0,0,0,d41d8cd98f00b204e9800998ecf8427e,KIV\n",
        " \n",
        "ERROR list index out of range reading 2013-01-01,10:15:33,MPT,b0af35b31588dc4ab06d5cf2986e8e02,MD,ATH,MIL,0,1,ATH,MIL,2013-01-04,,,,,,,,,,,,,,,,,,,,,,,,,,,,1ASIWS,0,0,0,d41d8cd98f00b204e9800998ecf8427e,KIV\n",
        " "
       ]
      },
      {
       "output_type": "stream",
       "stream": "stdout",
       "text": [
        "\n",
        "ERROR list index out of range reading 2013-01-01,10:15:33,MPT,b0af35b31588dc4ab06d5cf2986e8e02,MD,ATH,MIL,0,1,ATH,MIL,2013-01-04,,,,,,,,,,,,,,,,,,,,,,,,,,,,1ASIWS,0,0,0,d41d8cd98f00b204e9800998ecf8427e,KIV\n",
        " "
       ]
      },
      {
       "output_type": "stream",
       "stream": "stdout",
       "text": [
        "\n",
        "ERROR list index out of range reading 2013-01-01,10:15:33,MPT,b0af35b31588dc4ab06d5cf2986e8e02,MD,ATH,MIL,0,1,ATH,MIL,2013-01-04,,,,,,,,,,,,,,,,,,,,,,,,,,,,1ASIWS,0,0,0,d41d8cd98f00b204e9800998ecf8427e,KIV\n",
        " \n",
        "ERROR list index out of range reading 2013-01-01,10:15:33,MPT,b0af35b31588dc4ab06d5cf2986e8e02,MD,ATH,MIL,0,1,ATH,MIL,2013-01-04,,,,,,,,,,,,,,,,,,,,,,,,,,,,1ASIWS,0,0,0,d41d8cd98f00b204e9800998ecf8427e,KIV\n",
        " "
       ]
      },
      {
       "output_type": "stream",
       "stream": "stdout",
       "text": [
        "\n",
        "ERROR list index out of range reading 2013-01-01,10:15:33,MPT,b0af35b31588dc4ab06d5cf2986e8e02,MD,ATH,MIL,0,1,ATH,MIL,2013-01-04,,,,,,,,,,,,,,,,,,,,,,,,,,,,1ASIWS,0,0,0,d41d8cd98f00b204e9800998ecf8427e,KIV\n",
        " "
       ]
      },
      {
       "output_type": "stream",
       "stream": "stdout",
       "text": [
        "\n",
        "ERROR list index out of range reading 2013-01-01,10:15:33,MPT,b0af35b31588dc4ab06d5cf2986e8e02,MD,ATH,MIL,0,1,ATH,MIL,2013-01-04,,,,,,,,,,,,,,,,,,,,,,,,,,,,1ASIWS,0,0,0,d41d8cd98f00b204e9800998ecf8427e,KIV\n",
        " \n",
        "ERROR list index out of range reading 2013-01-01,10:15:33,MPT,b0af35b31588dc4ab06d5cf2986e8e02,MD,ATH,MIL,0,1,ATH,MIL,2013-01-04,,,,,,,,,,,,,,,,,,,,,,,,,,,,1ASIWS,0,0,0,d41d8cd98f00b204e9800998ecf8427e,KIV\n",
        " "
       ]
      },
      {
       "output_type": "stream",
       "stream": "stdout",
       "text": [
        "\n",
        "ERROR list index out of range reading 2013-01-01,10:15:33,MPT,b0af35b31588dc4ab06d5cf2986e8e02,MD,ATH,MIL,0,1,ATH,MIL,2013-01-04,,,,,,,,,,,,,,,,,,,,,,,,,,,,1ASIWS,0,0,0,d41d8cd98f00b204e9800998ecf8427e,KIV\n",
        " "
       ]
      },
      {
       "output_type": "stream",
       "stream": "stdout",
       "text": [
        "\n",
        "ERROR list index out of range reading 2013-01-01,10:15:33,MPT,b0af35b31588dc4ab06d5cf2986e8e02,MD,ATH,MIL,0,1,ATH,MIL,2013-01-04,,,,,,,,,,,,,,,,,,,,,,,,,,,,1ASIWS,0,0,0,d41d8cd98f00b204e9800998ecf8427e,KIV\n",
        " \n",
        "ERROR list index out of range reading 2013-01-01,10:15:33,MPT,b0af35b31588dc4ab06d5cf2986e8e02,MD,ATH,MIL,0,1,ATH,MIL,2013-01-04,,,,,,,,,,,,,,,,,,,,,,,,,,,,1ASIWS,0,0,0,d41d8cd98f00b204e9800998ecf8427e,KIV\n",
        " "
       ]
      },
      {
       "output_type": "stream",
       "stream": "stdout",
       "text": [
        "\n",
        "ERROR list index out of range reading 2013-01-01,10:15:33,MPT,b0af35b31588dc4ab06d5cf2986e8e02,MD,ATH,MIL,0,1,ATH,MIL,2013-01-04,,,,,,,,,,,,,,,,,,,,,,,,,,,,1ASIWS,0,0,0,d41d8cd98f00b204e9800998ecf8427e,KIV\n",
        " "
       ]
      },
      {
       "output_type": "stream",
       "stream": "stdout",
       "text": [
        "\n",
        "ERROR list index out of range reading 2013-01-01,10:15:33,MPT,b0af35b31588dc4ab06d5cf2986e8e02,MD,ATH,MIL,0,1,ATH,MIL,2013-01-04,,,,,,,,,,,,,,,,,,,,,,,,,,,,1ASIWS,0,0,0,d41d8cd98f00b204e9800998ecf8427e,KIV\n",
        " \n",
        "ERROR list index out of range reading 2013-01-01,10:15:33,MPT,b0af35b31588dc4ab06d5cf2986e8e02,MD,ATH,MIL,0,1,ATH,MIL,2013-01-04,,,,,,,,,,,,,,,,,,,,,,,,,,,,1ASIWS,0,0,0,d41d8cd98f00b204e9800998ecf8427e,KIV\n",
        " "
       ]
      },
      {
       "output_type": "stream",
       "stream": "stdout",
       "text": [
        "\n",
        "ERROR list index out of range reading 2013-01-01,10:15:33,MPT,b0af35b31588dc4ab06d5cf2986e8e02,MD,ATH,MIL,0,1,ATH,MIL,2013-01-04,,,,,,,,,,,,,,,,,,,,,,,,,,,,1ASIWS,0,0,0,d41d8cd98f00b204e9800998ecf8427e,KIV\n",
        " "
       ]
      },
      {
       "output_type": "stream",
       "stream": "stdout",
       "text": [
        "\n",
        "ERROR list index out of range reading 2013-01-01,10:15:33,MPT,b0af35b31588dc4ab06d5cf2986e8e02,MD,ATH,MIL,0,1,ATH,MIL,2013-01-04,,,,,,,,,,,,,,,,,,,,,,,,,,,,1ASIWS,0,0,0,d41d8cd98f00b204e9800998ecf8427e,KIV\n",
        " \n",
        "ERROR list index out of range reading 2013-01-01,10:15:33,MPT,b0af35b31588dc4ab06d5cf2986e8e02,MD,ATH,MIL,0,1,ATH,MIL,2013-01-04,,,,,,,,,,,,,,,,,,,,,,,,,,,,1ASIWS,0,0,0,d41d8cd98f00b204e9800998ecf8427e,KIV\n",
        " "
       ]
      },
      {
       "output_type": "stream",
       "stream": "stdout",
       "text": [
        "\n",
        "ERROR list index out of range reading 2013-01-01,10:15:33,MPT,b0af35b31588dc4ab06d5cf2986e8e02,MD,ATH,MIL,0,1,ATH,MIL,2013-01-04,,,,,,,,,,,,,,,,,,,,,,,,,,,,1ASIWS,0,0,0,d41d8cd98f00b204e9800998ecf8427e,KIV\n",
        " "
       ]
      },
      {
       "output_type": "stream",
       "stream": "stdout",
       "text": [
        "\n",
        "ERROR list index out of range reading 2013-01-01,10:15:33,MPT,b0af35b31588dc4ab06d5cf2986e8e02,MD,ATH,MIL,0,1,ATH,MIL,2013-01-04,,,,,,,,,,,,,,,,,,,,,,,,,,,,1ASIWS,0,0,0,d41d8cd98f00b204e9800998ecf8427e,KIV\n",
        " \n",
        "ERROR list index out of range reading 2013-01-01,10:15:33,MPT,b0af35b31588dc4ab06d5cf2986e8e02,MD,ATH,MIL,0,1,ATH,MIL,2013-01-04,,,,,,,,,,,,,,,,,,,,,,,,,,,,1ASIWS,0,0,0,d41d8cd98f00b204e9800998ecf8427e,KIV\n",
        " "
       ]
      },
      {
       "output_type": "stream",
       "stream": "stdout",
       "text": [
        "\n",
        "ERROR list index out of range reading 2013-01-01,10:15:33,MPT,b0af35b31588dc4ab06d5cf2986e8e02,MD,ATH,MIL,0,1,ATH,MIL,2013-01-04,,,,,,,,,,,,,,,,,,,,,,,,,,,,1ASIWS,0,0,0,d41d8cd98f00b204e9800998ecf8427e,KIV\n",
        " "
       ]
      },
      {
       "output_type": "stream",
       "stream": "stdout",
       "text": [
        "\n",
        "ERROR list index out of range reading 2013-01-01,10:15:33,MPT,b0af35b31588dc4ab06d5cf2986e8e02,MD,ATH,MIL,0,1,ATH,MIL,2013-01-04,,,,,,,,,,,,,,,,,,,,,,,,,,,,1ASIWS,0,0,0,d41d8cd98f00b204e9800998ecf8427e,KIV\n",
        " \n",
        "CPU times: user 2min, sys: 4.18 s, total: 2min 5s"
       ]
      },
      {
       "output_type": "stream",
       "stream": "stdout",
       "text": [
        "\n",
        "Wall time: 2min 6s\n"
       ]
      }
     ],
     "prompt_number": 56
    },
    {
     "cell_type": "markdown",
     "metadata": {},
     "source": [
      "We can observe that the separator **^** is not applied thorugh all the file\n",
      "\n",
      "For this particular case it is not problematic as the airport (MPT) is not in our use cases"
     ]
    },
    {
     "cell_type": "code",
     "collapsed": false,
     "input": [
      "#visual check\n",
      "counts"
     ],
     "language": "python",
     "metadata": {},
     "outputs": [
      {
       "metadata": {},
       "output_type": "pyout",
       "prompt_number": 58,
       "text": [
        "{'AGP': [9633,\n",
        "  8379,\n",
        "  10659,\n",
        "  8265,\n",
        "  10830,\n",
        "  7923,\n",
        "  8892,\n",
        "  7866,\n",
        "  8151,\n",
        "  6499,\n",
        "  6384,\n",
        "  3696],\n",
        " 'BCN': [29469,\n",
        "  28329,\n",
        "  30552,\n",
        "  31236,\n",
        "  28728,\n",
        "  26505,\n",
        "  29241,\n",
        "  27075,\n",
        "  23427,\n",
        "  20276,\n",
        "  19824,\n",
        "  15400],\n",
        " 'MAD': [24258,\n",
        "  22800,\n",
        "  24681,\n",
        "  25251,\n",
        "  26334,\n",
        "  22800,\n",
        "  22971,\n",
        "  21831,\n",
        "  21147,\n",
        "  22294,\n",
        "  20272,\n",
        "  14504]}"
       ]
      }
     ],
     "prompt_number": 58
    },
    {
     "cell_type": "markdown",
     "metadata": {},
     "source": [
      "Plotting"
     ]
    },
    {
     "cell_type": "code",
     "collapsed": false,
     "input": [
      "%matplotlib inline\n",
      "import matplotlib.pyplot as plt"
     ],
     "language": "python",
     "metadata": {},
     "outputs": [],
     "prompt_number": 71
    },
    {
     "cell_type": "code",
     "collapsed": false,
     "input": [
      "xticks = ['Jan','Feb','Mar','Apr','May','Jun','Jul','Aug','Sep','Oct','Nov','Dec']\n",
      "fig, ax = plt.subplots()\n",
      "ax.plot(counts['MAD'], marker='o', label='MAD')\n",
      "ax.plot(counts['BCN'], marker='o', label='BCN')\n",
      "ax.plot(counts['AGP'], marker='o', label='AGP')\n",
      "plt.title('Monthly arrivals in 2013');\n"
     ],
     "language": "python",
     "metadata": {},
     "outputs": [
      {
       "metadata": {},
       "output_type": "display_data",
       "png": "[encoded data removed]",
       "text": [
        "<matplotlib.figure.Figure at 0x7f4ae4934dd0>"
       ]
      }
     ],
     "prompt_number": 86
    },
    {
     "cell_type": "code",
     "collapsed": false,
     "input": [],
     "language": "python",
     "metadata": {},
     "outputs": [],
     "prompt_number": 68
    },
    {
     "cell_type": "code",
     "collapsed": false,
     "input": [],
     "language": "python",
     "metadata": {},
     "outputs": []
    }
   ],
   "metadata": {}
  }
 ]
}