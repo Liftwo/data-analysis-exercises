{
 "metadata": {
  "name": ""
 },
 "nbformat": 3,
 "nbformat_minor": 0,
 "worksheets": [
  {
   "cells": [
    {
     "cell_type": "heading",
     "level": 1,
     "metadata": {},
     "source": [
      "Data Analysis"
     ]
    },
    {
     "cell_type": "heading",
     "level": 2,
     "metadata": {},
     "source": [
      "3rd exercise"
     ]
    },
    {
     "cell_type": "markdown",
     "metadata": {},
     "source": [
      "Pandas and Numpy"
     ]
    },
    {
     "cell_type": "code",
     "collapsed": false,
     "input": [
      "#pandas\n",
      "import numpy as np\n",
      "import pandas as pd\n",
      "from pandas import Series, DataFrame"
     ],
     "language": "python",
     "metadata": {},
     "outputs": [],
     "prompt_number": 82
    },
    {
     "cell_type": "markdown",
     "metadata": {},
     "source": [
      "Geographic data"
     ]
    },
    {
     "cell_type": "code",
     "collapsed": false,
     "input": [
      "#geographic data\n",
      "from GeoBases import GeoBase\n",
      "geo_a = GeoBase(data='airports', verbose=False)\n",
      "#other things that might be useful\n",
      "geo_o = GeoBase(data='ori_por', verbose=False)\n",
      "#geo_t = GeoBase(data='stations', verbose=False)"
     ],
     "language": "python",
     "metadata": {},
     "outputs": [],
     "prompt_number": 39
    },
    {
     "cell_type": "markdown",
     "metadata": {},
     "source": [
      "Get the airport codes for the airports in Malaga Madrid and Barcelona"
     ]
    },
    {
     "cell_type": "code",
     "collapsed": false,
     "input": [
      "print(geo_a.fuzzyFind('Madrid', 'name'))\n",
      "print(geo_a.fuzzyFind('Barcelona', 'name'))\n",
      "print(geo_a.fuzzyFind('Malaga', 'name'))"
     ],
     "language": "python",
     "metadata": {},
     "outputs": [
      {
       "output_type": "stream",
       "stream": "stdout",
       "text": [
        "[(0.9, 'MAD'), (0.7692307692307693, 'IXM')]\n",
        "[(0.9, 'BCN'), (0.7777777777777778, 'QAK')]"
       ]
      },
      {
       "output_type": "stream",
       "stream": "stdout",
       "text": [
        "\n",
        "[(0.9, 'AGP'), (0.7692307692307693, 'PLQ'), (0.7692307692307693, 'MAK')]"
       ]
      },
      {
       "output_type": "stream",
       "stream": "stdout",
       "text": [
        "\n"
       ]
      }
     ],
     "prompt_number": 40
    },
    {
     "cell_type": "markdown",
     "metadata": {},
     "source": [
      "Verify airport names, and see which ones are the airports belonging to Madrid, Barcelona and Malaga"
     ]
    },
    {
     "cell_type": "code",
     "collapsed": false,
     "input": [
      "print(\"MAD: \", geo_o.get('MAD', 'name'))\n",
      "print(\"---------------\")\n",
      "print(\"IXM: \",geo_o.get('IXM', 'name')) #NO\n",
      "print(\"---------------\")\n",
      "print(\"BCN: \",geo_o.get('BCN', 'name'))\n",
      "print(\"---------------\")\n",
      "print(\"WAK: \",geo_o.get('WAK', 'name')) #NO\n",
      "print(\"---------------\")\n",
      "print(\"AGP: \",geo_o.get('AGP', 'name'))\n",
      "print(\"---------------\")\n",
      "print(\"PLQ: \",geo_o.get('PLQ', 'name')) #NO\n",
      "print(\"---------------\")\n",
      "print(\"MAK: \",geo_o.get('MAK', 'name')) #NO"
     ],
     "language": "python",
     "metadata": {},
     "outputs": [
      {
       "output_type": "stream",
       "stream": "stdout",
       "text": [
        "('MAD: ', 'Madrid / Barajas')\n",
        "---------------\n",
        "('IXM: ', 'Madurai Airport')\n",
        "---------------\n",
        "('BCN: ', 'Barcelona\\xe2\\x80\\x93El Prat Airport')\n",
        "---------------\n",
        "('WAK: ', 'Ankazoabo')\n",
        "---------------\n",
        "('AGP: ', 'M\\xc3\\xa1laga Airport')\n",
        "---------------\n",
        "('PLQ: ', 'Palanga International Airport')\n",
        "---------------\n",
        "('MAK: ', 'Malakal Airport')\n"
       ]
      }
     ],
     "prompt_number": 41
    },
    {
     "cell_type": "markdown",
     "metadata": {},
     "source": [
      "Converter helper functions for transform data on load"
     ]
    },
    {
     "cell_type": "code",
     "collapsed": false,
     "input": [
      "from datetime import date\n",
      "\n",
      "def strip_field(data):\n",
      "    \"\"\"\n",
      "    strip white characters from input data if is string\n",
      "    \"\"\"\n",
      "    if type(data) == str:\n",
      "        return data.strip()\n",
      "    return data\n",
      "\n",
      "def to_date(data):\n",
      "    \"\"\"\n",
      "    converts input data in yyyy-mm-dd format to Pandas Timestamp object.\n",
      "    If it fails returns original object\n",
      "    \"\"\"\n",
      "    try:\n",
      "        return pd.Timestamp(data)\n",
      "    except:\n",
      "        return data\n",
      "    "
     ],
     "language": "python",
     "metadata": {},
     "outputs": [],
     "prompt_number": 42
    },
    {
     "cell_type": "markdown",
     "metadata": {},
     "source": [
      "To make a memory usage estimation, first I do:\n",
      "\n",
      "    head searches.csv > headsearch.csv\n",
      "\n",
      "then I start checking memory usage and estimate for the whole dataset"
     ]
    },
    {
     "cell_type": "code",
     "collapsed": false,
     "input": [
      "%time srch_test = pd.read_table('headsearch.csv',sep='^', usecols=['Date','Destination'], converters={'Date':to_date, 'Destination': strip_field})"
     ],
     "language": "python",
     "metadata": {},
     "outputs": [
      {
       "output_type": "stream",
       "stream": "stdout",
       "text": [
        "CPU times: user 1.71 ms, sys: 239 \u00b5s, total: 1.95 ms\n",
        "Wall time: 1.96 ms\n"
       ]
      }
     ],
     "prompt_number": 43
    },
    {
     "cell_type": "code",
     "collapsed": false,
     "input": [
      "srch_test.dtypes"
     ],
     "language": "python",
     "metadata": {},
     "outputs": [
      {
       "metadata": {},
       "output_type": "pyout",
       "prompt_number": 44,
       "text": [
        "Date           datetime64[ns]\n",
        "Destination            object\n",
        "dtype: object"
       ]
      }
     ],
     "prompt_number": 44
    },
    {
     "cell_type": "code",
     "collapsed": false,
     "input": [
      "srch_test[:1].Date.nbytes"
     ],
     "language": "python",
     "metadata": {},
     "outputs": [
      {
       "metadata": {},
       "output_type": "pyout",
       "prompt_number": 45,
       "text": [
        "8"
       ]
      }
     ],
     "prompt_number": 45
    },
    {
     "cell_type": "code",
     "collapsed": false,
     "input": [
      "srch_test[:1].Destination.nbytes"
     ],
     "language": "python",
     "metadata": {},
     "outputs": [
      {
       "metadata": {},
       "output_type": "pyout",
       "prompt_number": 46,
       "text": [
        "8"
       ]
      }
     ],
     "prompt_number": 46
    },
    {
     "cell_type": "code",
     "collapsed": false,
     "input": [
      "srch_test.memory_usage(index=True)"
     ],
     "language": "python",
     "metadata": {},
     "outputs": [
      {
       "metadata": {},
       "output_type": "pyout",
       "prompt_number": 47,
       "text": [
        "Index          72\n",
        "Date           72\n",
        "Destination    72\n",
        "dtype: int64"
       ]
      }
     ],
     "prompt_number": 47
    },
    {
     "cell_type": "markdown",
     "metadata": {},
     "source": [
      "####Memory estimation\n",
      "\n",
      "There are ~ 20M registers (1st exercise) \n",
      "    \n",
      "    index: int64 (8 bytes), Date: 8bytes, Destination: 8bytes\n",
      "    20M* (8*3) bytes"
     ]
    },
    {
     "cell_type": "code",
     "collapsed": false,
     "input": [
      "20 * 8 * 3"
     ],
     "language": "python",
     "metadata": {},
     "outputs": [
      {
       "metadata": {},
       "output_type": "pyout",
       "prompt_number": 48,
       "text": [
        "480"
       ]
      }
     ],
     "prompt_number": 48
    },
    {
     "cell_type": "markdown",
     "metadata": {},
     "source": [
      "Aproximately 480MB for the whole data structure in memory\n",
      "\n",
      "I should be able to load everything in RAM"
     ]
    },
    {
     "cell_type": "code",
     "collapsed": false,
     "input": [
      "#cleanup test\n",
      "del(srch_test)"
     ],
     "language": "python",
     "metadata": {},
     "outputs": [],
     "prompt_number": 49
    },
    {
     "cell_type": "markdown",
     "metadata": {},
     "source": [
      "####Loading data"
     ]
    },
    {
     "cell_type": "code",
     "collapsed": false,
     "input": [
      "#anyway, as data will be processed and new data generated I want to be sure that there is a cap in memory usage\n",
      "#loading with iterator and filtering in place for the destinations"
     ],
     "language": "python",
     "metadata": {},
     "outputs": [],
     "prompt_number": 50
    },
    {
     "cell_type": "code",
     "collapsed": false,
     "input": [
      "%time srch = pd.read_table('searches.csv',sep='^', usecols=['Date','Destination'], converters={'Date':to_date, 'Destination': strip_field})"
     ],
     "language": "python",
     "metadata": {},
     "outputs": [
      {
       "output_type": "stream",
       "stream": "stdout",
       "text": [
        "CPU times: user 1min 1s, sys: 5.26 s, total: 1min 6s\n",
        "Wall time: 1min 20s\n"
       ]
      }
     ],
     "prompt_number": 51
    },
    {
     "cell_type": "markdown",
     "metadata": {},
     "source": [
      "####Filtering data\n",
      "\n",
      "Preselect only the airports that are needed, time for reference"
     ]
    },
    {
     "cell_type": "code",
     "collapsed": false,
     "input": [
      "%time s_ports = srch[srch.Destination.isin([\"MAD\", \"BCN\",\"AGP\"])]"
     ],
     "language": "python",
     "metadata": {},
     "outputs": [
      {
       "output_type": "stream",
       "stream": "stdout",
       "text": [
        "CPU times: user 1.1 s, sys: 136 ms, total: 1.23 s\n",
        "Wall time: 1.23 s\n"
       ]
      }
     ],
     "prompt_number": 53
    },
    {
     "cell_type": "markdown",
     "metadata": {},
     "source": [
      "####Visual Check"
     ]
    },
    {
     "cell_type": "markdown",
     "metadata": {},
     "source": [
      "Memory check"
     ]
    },
    {
     "cell_type": "code",
     "collapsed": false,
     "input": [
      "dfs = {\"srch\": srch,\n",
      "       \"s_ports\": s_ports,\n",
      "      }\n",
      "\n",
      "for k,v in dfs.iteritems():\n",
      "    print (k+\" mem: %f MB\" % (v.memory_usage(index=True).sum()/1024000.0))\n"
     ],
     "language": "python",
     "metadata": {},
     "outputs": [
      {
       "output_type": "stream",
       "stream": "stdout",
       "text": [
        "s_ports mem: 15.852703 MB\n",
        "srch mem: 477.895266 MB\n"
       ]
      }
     ],
     "prompt_number": 54
    },
    {
     "cell_type": "markdown",
     "metadata": {},
     "source": [
      "Content check"
     ]
    },
    {
     "cell_type": "code",
     "collapsed": false,
     "input": [
      "s_ports.head()"
     ],
     "language": "python",
     "metadata": {},
     "outputs": [
      {
       "html": [
        "<div style=\"max-height:1000px;max-width:1500px;overflow:auto;\">\n",
        "<table border=\"1\" class=\"dataframe\">\n",
        "  <thead>\n",
        "    <tr style=\"text-align: right;\">\n",
        "      <th></th>\n",
        "      <th>Date</th>\n",
        "      <th>Destination</th>\n",
        "    </tr>\n",
        "  </thead>\n",
        "  <tbody>\n",
        "    <tr>\n",
        "      <th>4  </th>\n",
        "      <td> 2013-01-01 00:00:00</td>\n",
        "      <td> MAD</td>\n",
        "    </tr>\n",
        "    <tr>\n",
        "      <th>93 </th>\n",
        "      <td> 2013-01-01 00:00:00</td>\n",
        "      <td> AGP</td>\n",
        "    </tr>\n",
        "    <tr>\n",
        "      <th>113</th>\n",
        "      <td> 2013-01-01 00:00:00</td>\n",
        "      <td> BCN</td>\n",
        "    </tr>\n",
        "    <tr>\n",
        "      <th>147</th>\n",
        "      <td> 2013-01-01 00:00:00</td>\n",
        "      <td> AGP</td>\n",
        "    </tr>\n",
        "    <tr>\n",
        "      <th>151</th>\n",
        "      <td> 2013-01-01 00:00:00</td>\n",
        "      <td> MAD</td>\n",
        "    </tr>\n",
        "  </tbody>\n",
        "</table>\n",
        "</div>"
       ],
       "metadata": {},
       "output_type": "pyout",
       "prompt_number": 55,
       "text": [
        "                    Date Destination\n",
        "4    2013-01-01 00:00:00         MAD\n",
        "93   2013-01-01 00:00:00         AGP\n",
        "113  2013-01-01 00:00:00         BCN\n",
        "147  2013-01-01 00:00:00         AGP\n",
        "151  2013-01-01 00:00:00         MAD"
       ]
      }
     ],
     "prompt_number": 55
    },
    {
     "cell_type": "markdown",
     "metadata": {},
     "source": [
      "Adding a column to be able to sum (warning happens also with loc method)"
     ]
    },
    {
     "cell_type": "code",
     "collapsed": false,
     "input": [
      "%time s_ports['count'] = Series(1, index=s_ports.index)"
     ],
     "language": "python",
     "metadata": {},
     "outputs": [
      {
       "output_type": "stream",
       "stream": "stdout",
       "text": [
        "CPU times: user 1.89 s, sys: 747 \u00b5s, total: 1.89 s\n",
        "Wall time: 1.88 s\n"
       ]
      },
      {
       "output_type": "stream",
       "stream": "stderr",
       "text": [
        "-c:1: SettingWithCopyWarning: \n",
        "A value is trying to be set on a copy of a slice from a DataFrame.\n",
        "Try using .loc[row_indexer,col_indexer] = value instead\n",
        "\n",
        "See the the caveats in the documentation: http://pandas.pydata.org/pandas-docs/stable/indexing.html#indexing-view-versus-copy\n"
       ]
      }
     ],
     "prompt_number": 83
    },
    {
     "cell_type": "markdown",
     "metadata": {},
     "source": [
      "Grouping, counting and changing the arrivals groups to columns. also selecting only data from 2013"
     ]
    },
    {
     "cell_type": "code",
     "collapsed": false,
     "input": [
      "%time sgroup = s_ports.groupby(['Date','Destination']).count().unstack()['2013']"
     ],
     "language": "python",
     "metadata": {},
     "outputs": [
      {
       "output_type": "stream",
       "stream": "stdout",
       "text": [
        "CPU times: user 159 ms, sys: 3.46 ms, total: 162 ms\n",
        "Wall time: 162 ms\n"
       ]
      }
     ],
     "prompt_number": 105
    },
    {
     "cell_type": "code",
     "collapsed": false,
     "input": [
      "sgroup.head()"
     ],
     "language": "python",
     "metadata": {},
     "outputs": [
      {
       "html": [
        "<div style=\"max-height:1000px;max-width:1500px;overflow:auto;\">\n",
        "<table border=\"1\" class=\"dataframe\">\n",
        "  <thead>\n",
        "    <tr>\n",
        "      <th></th>\n",
        "      <th colspan=\"3\" halign=\"left\">count</th>\n",
        "    </tr>\n",
        "    <tr>\n",
        "      <th>Destination</th>\n",
        "      <th>AGP</th>\n",
        "      <th>BCN</th>\n",
        "      <th>MAD</th>\n",
        "    </tr>\n",
        "    <tr>\n",
        "      <th>Date</th>\n",
        "      <th></th>\n",
        "      <th></th>\n",
        "      <th></th>\n",
        "    </tr>\n",
        "  </thead>\n",
        "  <tbody>\n",
        "    <tr>\n",
        "      <th>2013-01-01</th>\n",
        "      <td> 399</td>\n",
        "      <td> 1482</td>\n",
        "      <td> 660</td>\n",
        "    </tr>\n",
        "    <tr>\n",
        "      <th>2013-01-02</th>\n",
        "      <td> 228</td>\n",
        "      <td>  513</td>\n",
        "      <td> 627</td>\n",
        "    </tr>\n",
        "    <tr>\n",
        "      <th>2013-01-03</th>\n",
        "      <td> 285</td>\n",
        "      <td>  741</td>\n",
        "      <td> 285</td>\n",
        "    </tr>\n",
        "    <tr>\n",
        "      <th>2013-01-04</th>\n",
        "      <td> 285</td>\n",
        "      <td> 1026</td>\n",
        "      <td> 798</td>\n",
        "    </tr>\n",
        "    <tr>\n",
        "      <th>2013-01-05</th>\n",
        "      <td> 228</td>\n",
        "      <td>  741</td>\n",
        "      <td> 912</td>\n",
        "    </tr>\n",
        "  </tbody>\n",
        "</table>\n",
        "</div>"
       ],
       "metadata": {},
       "output_type": "pyout",
       "prompt_number": 87,
       "text": [
        "            count           \n",
        "Destination   AGP   BCN  MAD\n",
        "Date                        \n",
        "2013-01-01    399  1482  660\n",
        "2013-01-02    228   513  627\n",
        "2013-01-03    285   741  285\n",
        "2013-01-04    285  1026  798\n",
        "2013-01-05    228   741  912"
       ]
      }
     ],
     "prompt_number": 87
    },
    {
     "cell_type": "code",
     "collapsed": false,
     "input": [
      "sgroup.describe()"
     ],
     "language": "python",
     "metadata": {},
     "outputs": [
      {
       "html": [
        "<div style=\"max-height:1000px;max-width:1500px;overflow:auto;\">\n",
        "<table border=\"1\" class=\"dataframe\">\n",
        "  <thead>\n",
        "    <tr>\n",
        "      <th></th>\n",
        "      <th colspan=\"3\" halign=\"left\">count</th>\n",
        "    </tr>\n",
        "    <tr>\n",
        "      <th></th>\n",
        "      <th>AGP</th>\n",
        "      <th>BCN</th>\n",
        "      <th>MAD</th>\n",
        "    </tr>\n",
        "  </thead>\n",
        "  <tbody>\n",
        "    <tr>\n",
        "      <th>count</th>\n",
        "      <td> 357.000000</td>\n",
        "      <td>  359.000000</td>\n",
        "      <td>  359.000000</td>\n",
        "    </tr>\n",
        "    <tr>\n",
        "      <th>mean</th>\n",
        "      <td> 272.204482</td>\n",
        "      <td>  863.682451</td>\n",
        "      <td>  749.701950</td>\n",
        "    </tr>\n",
        "    <tr>\n",
        "      <th>std</th>\n",
        "      <td> 134.856146</td>\n",
        "      <td>  264.651514</td>\n",
        "      <td>  224.964722</td>\n",
        "    </tr>\n",
        "    <tr>\n",
        "      <th>min</th>\n",
        "      <td>  56.000000</td>\n",
        "      <td>  228.000000</td>\n",
        "      <td>  168.000000</td>\n",
        "    </tr>\n",
        "    <tr>\n",
        "      <th>25%</th>\n",
        "      <td> 171.000000</td>\n",
        "      <td>  684.000000</td>\n",
        "      <td>  570.000000</td>\n",
        "    </tr>\n",
        "    <tr>\n",
        "      <th>50%</th>\n",
        "      <td> 280.000000</td>\n",
        "      <td>  855.000000</td>\n",
        "      <td>  741.000000</td>\n",
        "    </tr>\n",
        "    <tr>\n",
        "      <th>75%</th>\n",
        "      <td> 342.000000</td>\n",
        "      <td> 1026.000000</td>\n",
        "      <td>  855.000000</td>\n",
        "    </tr>\n",
        "    <tr>\n",
        "      <th>max</th>\n",
        "      <td> 741.000000</td>\n",
        "      <td> 1539.000000</td>\n",
        "      <td> 1425.000000</td>\n",
        "    </tr>\n",
        "  </tbody>\n",
        "</table>\n",
        "</div>"
       ],
       "metadata": {},
       "output_type": "pyout",
       "prompt_number": 88,
       "text": [
        "            count                          \n",
        "              AGP          BCN          MAD\n",
        "count  357.000000   359.000000   359.000000\n",
        "mean   272.204482   863.682451   749.701950\n",
        "std    134.856146   264.651514   224.964722\n",
        "min     56.000000   228.000000   168.000000\n",
        "25%    171.000000   684.000000   570.000000\n",
        "50%    280.000000   855.000000   741.000000\n",
        "75%    342.000000  1026.000000   855.000000\n",
        "max    741.000000  1539.000000  1425.000000"
       ]
      }
     ],
     "prompt_number": 88
    },
    {
     "cell_type": "markdown",
     "metadata": {},
     "source": [
      "Plot containing all the daily data from 2013"
     ]
    },
    {
     "cell_type": "code",
     "collapsed": false,
     "input": [
      "#dropping values that will not be able to be printed\n",
      "%time sgroup.dropna(inplace=True)"
     ],
     "language": "python",
     "metadata": {},
     "outputs": [
      {
       "output_type": "stream",
       "stream": "stdout",
       "text": [
        "CPU times: user 0 ns, sys: 0 ns, total: 0 ns\n",
        "Wall time: 1.15 ms\n"
       ]
      }
     ],
     "prompt_number": 102
    },
    {
     "cell_type": "code",
     "collapsed": false,
     "input": [
      "sgroup.plot()"
     ],
     "language": "python",
     "metadata": {},
     "outputs": [
      {
       "metadata": {},
       "output_type": "pyout",
       "prompt_number": 91,
       "text": [
        "<matplotlib.axes.AxesSubplot at 0x7f9f1e76ed50>"
       ]
      },
      {
       "metadata": {},
       "output_type": "display_data",
       "png": "[encoded data removed]",
       "text": [
        "<matplotlib.figure.Figure at 0x7f9f1e6248d0>"
       ]
      }
     ],
     "prompt_number": 91
    },
    {
     "cell_type": "markdown",
     "metadata": {},
     "source": [
      "It is not really clear, so I'll be grouping by month"
     ]
    },
    {
     "cell_type": "code",
     "collapsed": false,
     "input": [
      "#grouped time period by month summing the results for each\n",
      "%time gpdt = sgroup.resample('M', how='sum', kind='period')"
     ],
     "language": "python",
     "metadata": {},
     "outputs": [
      {
       "output_type": "stream",
       "stream": "stdout",
       "text": [
        "CPU times: user 3.44 ms, sys: 0 ns, total: 3.44 ms\n",
        "Wall time: 2.89 ms\n"
       ]
      }
     ],
     "prompt_number": 103
    },
    {
     "cell_type": "code",
     "collapsed": false,
     "input": [
      "gpdt"
     ],
     "language": "python",
     "metadata": {},
     "outputs": [
      {
       "html": [
        "<div style=\"max-height:1000px;max-width:1500px;overflow:auto;\">\n",
        "<table border=\"1\" class=\"dataframe\">\n",
        "  <thead>\n",
        "    <tr>\n",
        "      <th></th>\n",
        "      <th colspan=\"3\" halign=\"left\">count</th>\n",
        "    </tr>\n",
        "    <tr>\n",
        "      <th>Destination</th>\n",
        "      <th>AGP</th>\n",
        "      <th>BCN</th>\n",
        "      <th>MAD</th>\n",
        "    </tr>\n",
        "    <tr>\n",
        "      <th>Date</th>\n",
        "      <th></th>\n",
        "      <th></th>\n",
        "      <th></th>\n",
        "    </tr>\n",
        "  </thead>\n",
        "  <tbody>\n",
        "    <tr>\n",
        "      <th>2013-01</th>\n",
        "      <td>  9633</td>\n",
        "      <td> 29469</td>\n",
        "      <td> 24258</td>\n",
        "    </tr>\n",
        "    <tr>\n",
        "      <th>2013-02</th>\n",
        "      <td>  8379</td>\n",
        "      <td> 28329</td>\n",
        "      <td> 22800</td>\n",
        "    </tr>\n",
        "    <tr>\n",
        "      <th>2013-03</th>\n",
        "      <td> 10659</td>\n",
        "      <td> 30552</td>\n",
        "      <td> 24681</td>\n",
        "    </tr>\n",
        "    <tr>\n",
        "      <th>2013-04</th>\n",
        "      <td>  8265</td>\n",
        "      <td> 31236</td>\n",
        "      <td> 25251</td>\n",
        "    </tr>\n",
        "    <tr>\n",
        "      <th>2013-05</th>\n",
        "      <td> 10830</td>\n",
        "      <td> 28728</td>\n",
        "      <td> 26334</td>\n",
        "    </tr>\n",
        "    <tr>\n",
        "      <th>2013-06</th>\n",
        "      <td>  7923</td>\n",
        "      <td> 26505</td>\n",
        "      <td> 22800</td>\n",
        "    </tr>\n",
        "    <tr>\n",
        "      <th>2013-07</th>\n",
        "      <td>  8892</td>\n",
        "      <td> 29241</td>\n",
        "      <td> 22971</td>\n",
        "    </tr>\n",
        "    <tr>\n",
        "      <th>2013-08</th>\n",
        "      <td>  7866</td>\n",
        "      <td> 27075</td>\n",
        "      <td> 21831</td>\n",
        "    </tr>\n",
        "    <tr>\n",
        "      <th>2013-09</th>\n",
        "      <td>  8151</td>\n",
        "      <td> 23427</td>\n",
        "      <td> 21147</td>\n",
        "    </tr>\n",
        "    <tr>\n",
        "      <th>2013-10</th>\n",
        "      <td>  6499</td>\n",
        "      <td> 20276</td>\n",
        "      <td> 22294</td>\n",
        "    </tr>\n",
        "    <tr>\n",
        "      <th>2013-11</th>\n",
        "      <td>  6384</td>\n",
        "      <td> 19824</td>\n",
        "      <td> 20272</td>\n",
        "    </tr>\n",
        "    <tr>\n",
        "      <th>2013-12</th>\n",
        "      <td>  3696</td>\n",
        "      <td> 14392</td>\n",
        "      <td> 13776</td>\n",
        "    </tr>\n",
        "  </tbody>\n",
        "</table>\n",
        "</div>"
       ],
       "metadata": {},
       "output_type": "pyout",
       "prompt_number": 93,
       "text": [
        "             count              \n",
        "Destination    AGP    BCN    MAD\n",
        "Date                            \n",
        "2013-01       9633  29469  24258\n",
        "2013-02       8379  28329  22800\n",
        "2013-03      10659  30552  24681\n",
        "2013-04       8265  31236  25251\n",
        "2013-05      10830  28728  26334\n",
        "2013-06       7923  26505  22800\n",
        "2013-07       8892  29241  22971\n",
        "2013-08       7866  27075  21831\n",
        "2013-09       8151  23427  21147\n",
        "2013-10       6499  20276  22294\n",
        "2013-11       6384  19824  20272\n",
        "2013-12       3696  14392  13776"
       ]
      }
     ],
     "prompt_number": 93
    },
    {
     "cell_type": "code",
     "collapsed": false,
     "input": [
      "#plotting\n",
      "#reset index because there is a problem when plotting with the period index ... (could't yet found why)\n",
      "ax = gpdt.reset_index()['count'].plot()\n",
      "\n",
      "#Setting labels - capturing the results in vars so it doesn't pollute the output\n",
      "yl = ax.set_ylabel(\"Arrivals\")\n",
      "xl = ax.set_xlabel(\"Date\")\n",
      "xticks = ax.set_xticks(range(gpdt.index.size))\n",
      "xlabs = ax.set_xticklabels(gpdt.index, rotation=50)\n"
     ],
     "language": "python",
     "metadata": {},
     "outputs": [
      {
       "metadata": {},
       "output_type": "display_data",
       "png": "[encoded data removed]",
       "text": [
        "<matplotlib.figure.Figure at 0x7f9f1e4b7b50>"
       ]
      }
     ],
     "prompt_number": 104
    },
    {
     "cell_type": "heading",
     "level": 3,
     "metadata": {},
     "source": [
      "Pure Python"
     ]
    },
    {
     "cell_type": "markdown",
     "metadata": {},
     "source": [
      "cleanup everything (memory)"
     ]
    },
    {
     "cell_type": "code",
     "collapsed": false,
     "input": [
      "%reset\n",
      "import gc\n",
      "gc.collect()"
     ],
     "language": "python",
     "metadata": {},
     "outputs": [
      {
       "name": "stdout",
       "output_type": "stream",
       "stream": "stdout",
       "text": [
        "Once deleted, variables cannot be recovered. Proceed (y/[n])? y\n"
       ]
      },
      {
       "metadata": {},
       "output_type": "pyout",
       "prompt_number": 36,
       "text": [
        "0"
       ]
      }
     ],
     "prompt_number": 36
    },
    {
     "cell_type": "code",
     "collapsed": false,
     "input": [
      "import datetime"
     ],
     "language": "python",
     "metadata": {},
     "outputs": [],
     "prompt_number": 6
    },
    {
     "cell_type": "markdown",
     "metadata": {},
     "source": [
      "get header, headsearch.csv is the result of:\n",
      "\n",
      "    head searches.csv > headsearch.csv"
     ]
    },
    {
     "cell_type": "code",
     "collapsed": false,
     "input": [
      "headers = None\n",
      "with open('headsearch.csv', 'r') as f:\n",
      "    for l in f:\n",
      "        fields = [i.strip() for i in l.split('^')]\n",
      "        if headers is None:\n",
      "            headers = fields\n",
      "            break\n",
      "\n",
      "#get IATA code index\n",
      "dest_idx = headers.index('Destination')\n",
      "#get timestamp index\n",
      "date_idx = headers.index('Date')\n"
     ],
     "language": "python",
     "metadata": {},
     "outputs": [],
     "prompt_number": 7
    },
    {
     "cell_type": "code",
     "collapsed": false,
     "input": [
      "print (\"idx destination = %d, idx date = %d\" % (dest_idx,date_idx))"
     ],
     "language": "python",
     "metadata": {},
     "outputs": [
      {
       "output_type": "stream",
       "stream": "stdout",
       "text": [
        "idx destination = 6, idx date = 0\n"
       ]
      }
     ],
     "prompt_number": 8
    },
    {
     "cell_type": "markdown",
     "metadata": {},
     "source": [
      "visual check"
     ]
    },
    {
     "cell_type": "code",
     "collapsed": false,
     "input": [
      "!head -n 2 headsearch.csv"
     ],
     "language": "python",
     "metadata": {},
     "outputs": [
      {
       "output_type": "stream",
       "stream": "stdout",
       "text": [
        "Date^Time^TxnCode^OfficeID^Country^Origin^Destination^RoundTrip^NbSegments^Seg1Departure^Seg1Arrival^Seg1Date^Seg1Carrier^Seg1BookingCode^Seg2Departure^Seg2Arrival^Seg2Date^Seg2Carrier^Seg2BookingCode^Seg3Departure^Seg3Arrival^Seg3Date^Seg3Carrier^Seg3BookingCode^Seg4Departure^Seg4Arrival^Seg4Date^Seg4Carrier^Seg4BookingCode^Seg5Departure^Seg5Arrival^Seg5Date^Seg5Carrier^Seg5BookingCode^Seg6Departure^Seg6Arrival^Seg6Date^Seg6Carrier^Seg6BookingCode^From^IsPublishedForNeg^IsFromInternet^IsFromVista^TerminalID^InternetOffice\r\n",
        "2013-01-01^20:25:57^MPT^624d8c3ac0b3a7ca03e3c167e0f48327^DE^TXL^AUH^1^2^TXL^AUH^2013-01-26^D2^^AUH^TXL^2013-02-02^D2^^^^^^^^^^^^^^^^^^^^^^1ASIWS^0^0^0^d41d8cd98f00b204e9800998ecf8427e^FRA\r\n"
       ]
      }
     ],
     "prompt_number": 9
    },
    {
     "cell_type": "markdown",
     "metadata": {},
     "source": [
      "Ports and dates where we want to measure arrivals"
     ]
    },
    {
     "cell_type": "code",
     "collapsed": false,
     "input": [
      "PORTS = [\"MAD\", \"BCN\",\"AGP\"]\n",
      "YEARS = [2013]"
     ],
     "language": "python",
     "metadata": {},
     "outputs": [],
     "prompt_number": 10
    },
    {
     "cell_type": "code",
     "collapsed": false,
     "input": [
      "#define function that makes the processing\n",
      "def group_by_port_and_month(fname):\n",
      "    \"\"\"\n",
      "    Opens the file, parses it and makes the sum of passengers by month in each arrival port\n",
      "    fname: name of the file containing the searches data\n",
      "    \"\"\"\n",
      "    arr_dict = {}\n",
      "    with open(fname, 'r') as f:\n",
      "        for l in f:\n",
      "            fields = [i.strip() for i in l.split('^')]\n",
      "            #be careful with empty fields \n",
      "            try:\n",
      "                #get destination IATA code\n",
      "                dst = fields[dest_idx]\n",
      "                #avoid innecessary processing\n",
      "                if dst in PORTS:\n",
      "                    #get timestamp\n",
      "                    ts = datetime.datetime.strptime(fields[date_idx], \"%Y-%m-%d\")\n",
      "                    #check is in YEARS\n",
      "                    if ts.year in YEARS:\n",
      "                        #sum\n",
      "                        if dst not in arr_dict:\n",
      "                            arr_dict[dst] = [0 for i in range(12)]\n",
      "                        #count\n",
      "                        arr_dict[dst][ts.month -1] +=1\n",
      "            except Exception as e:\n",
      "                print (\"ERROR: %s | Reading: %s \" %(e,l))\n",
      "                pass\n",
      "    return arr_dict\n"
     ],
     "language": "python",
     "metadata": {},
     "outputs": [],
     "prompt_number": 11
    },
    {
     "cell_type": "markdown",
     "metadata": {},
     "source": [
      "make the dictionary that contains the sums"
     ]
    },
    {
     "cell_type": "code",
     "collapsed": false,
     "input": [
      "%time counts = group_by_port_and_month('searches.csv')"
     ],
     "language": "python",
     "metadata": {},
     "outputs": [
      {
       "output_type": "stream",
       "stream": "stdout",
       "text": [
        "ERROR: list index out of range | Reading: 2013-01-01,10:15:33,MPT,b0af35b31588dc4ab06d5cf2986e8e02,MD,ATH,MIL,0,1,ATH,MIL,2013-01-04,,,,,,,,,,,,,,,,,,,,,,,,,,,,1ASIWS,0,0,0,d41d8cd98f00b204e9800998ecf8427e,KIV\n",
        " \n",
        "ERROR: list index out of range | Reading: 2013-01-01,10:15:33,MPT,b0af35b31588dc4ab06d5cf2986e8e02,MD,ATH,MIL,0,1,ATH,MIL,2013-01-04,,,,,,,,,,,,,,,,,,,,,,,,,,,,1ASIWS,0,0,0,d41d8cd98f00b204e9800998ecf8427e,KIV\n",
        " "
       ]
      },
      {
       "output_type": "stream",
       "stream": "stdout",
       "text": [
        "\n",
        "ERROR: list index out of range | Reading: 2013-01-01,10:15:33,MPT,b0af35b31588dc4ab06d5cf2986e8e02,MD,ATH,MIL,0,1,ATH,MIL,2013-01-04,,,,,,,,,,,,,,,,,,,,,,,,,,,,1ASIWS,0,0,0,d41d8cd98f00b204e9800998ecf8427e,KIV\n",
        " \n",
        "ERROR: list index out of range | Reading: 2013-01-01,10:15:33,MPT,b0af35b31588dc4ab06d5cf2986e8e02,MD,ATH,MIL,0,1,ATH,MIL,2013-01-04,,,,,,,,,,,,,,,,,,,,,,,,,,,,1ASIWS,0,0,0,d41d8cd98f00b204e9800998ecf8427e,KIV\n",
        " "
       ]
      },
      {
       "output_type": "stream",
       "stream": "stdout",
       "text": [
        "\n",
        "ERROR: list index out of range | Reading: 2013-01-01,10:15:33,MPT,b0af35b31588dc4ab06d5cf2986e8e02,MD,ATH,MIL,0,1,ATH,MIL,2013-01-04,,,,,,,,,,,,,,,,,,,,,,,,,,,,1ASIWS,0,0,0,d41d8cd98f00b204e9800998ecf8427e,KIV\n",
        " "
       ]
      },
      {
       "output_type": "stream",
       "stream": "stdout",
       "text": [
        "\n",
        "ERROR: list index out of range | Reading: 2013-01-01,10:15:33,MPT,b0af35b31588dc4ab06d5cf2986e8e02,MD,ATH,MIL,0,1,ATH,MIL,2013-01-04,,,,,,,,,,,,,,,,,,,,,,,,,,,,1ASIWS,0,0,0,d41d8cd98f00b204e9800998ecf8427e,KIV\n",
        " \n",
        "ERROR: list index out of range | Reading: 2013-01-01,10:15:33,MPT,b0af35b31588dc4ab06d5cf2986e8e02,MD,ATH,MIL,0,1,ATH,MIL,2013-01-04,,,,,,,,,,,,,,,,,,,,,,,,,,,,1ASIWS,0,0,0,d41d8cd98f00b204e9800998ecf8427e,KIV\n",
        " "
       ]
      },
      {
       "output_type": "stream",
       "stream": "stdout",
       "text": [
        "\n",
        "ERROR: list index out of range | Reading: 2013-01-01,10:15:33,MPT,b0af35b31588dc4ab06d5cf2986e8e02,MD,ATH,MIL,0,1,ATH,MIL,2013-01-04,,,,,,,,,,,,,,,,,,,,,,,,,,,,1ASIWS,0,0,0,d41d8cd98f00b204e9800998ecf8427e,KIV\n",
        " "
       ]
      },
      {
       "output_type": "stream",
       "stream": "stdout",
       "text": [
        "\n",
        "ERROR: list index out of range | Reading: 2013-01-01,10:15:33,MPT,b0af35b31588dc4ab06d5cf2986e8e02,MD,ATH,MIL,0,1,ATH,MIL,2013-01-04,,,,,,,,,,,,,,,,,,,,,,,,,,,,1ASIWS,0,0,0,d41d8cd98f00b204e9800998ecf8427e,KIV\n",
        " \n",
        "ERROR: list index out of range | Reading: 2013-01-01,10:15:33,MPT,b0af35b31588dc4ab06d5cf2986e8e02,MD,ATH,MIL,0,1,ATH,MIL,2013-01-04,,,,,,,,,,,,,,,,,,,,,,,,,,,,1ASIWS,0,0,0,d41d8cd98f00b204e9800998ecf8427e,KIV\n",
        " "
       ]
      },
      {
       "output_type": "stream",
       "stream": "stdout",
       "text": [
        "\n",
        "ERROR: list index out of range | Reading: 2013-01-01,10:15:33,MPT,b0af35b31588dc4ab06d5cf2986e8e02,MD,ATH,MIL,0,1,ATH,MIL,2013-01-04,,,,,,,,,,,,,,,,,,,,,,,,,,,,1ASIWS,0,0,0,d41d8cd98f00b204e9800998ecf8427e,KIV\n",
        " "
       ]
      },
      {
       "output_type": "stream",
       "stream": "stdout",
       "text": [
        "\n",
        "ERROR: list index out of range | Reading: 2013-01-01,10:15:33,MPT,b0af35b31588dc4ab06d5cf2986e8e02,MD,ATH,MIL,0,1,ATH,MIL,2013-01-04,,,,,,,,,,,,,,,,,,,,,,,,,,,,1ASIWS,0,0,0,d41d8cd98f00b204e9800998ecf8427e,KIV\n",
        " \n",
        "ERROR: list index out of range | Reading: 2013-01-01,10:15:33,MPT,b0af35b31588dc4ab06d5cf2986e8e02,MD,ATH,MIL,0,1,ATH,MIL,2013-01-04,,,,,,,,,,,,,,,,,,,,,,,,,,,,1ASIWS,0,0,0,d41d8cd98f00b204e9800998ecf8427e,KIV\n",
        " "
       ]
      },
      {
       "output_type": "stream",
       "stream": "stdout",
       "text": [
        "\n",
        "ERROR: list index out of range | Reading: 2013-01-01,10:15:33,MPT,b0af35b31588dc4ab06d5cf2986e8e02,MD,ATH,MIL,0,1,ATH,MIL,2013-01-04,,,,,,,,,,,,,,,,,,,,,,,,,,,,1ASIWS,0,0,0,d41d8cd98f00b204e9800998ecf8427e,KIV\n",
        " "
       ]
      },
      {
       "output_type": "stream",
       "stream": "stdout",
       "text": [
        "\n",
        "ERROR: list index out of range | Reading: 2013-01-01,10:15:33,MPT,b0af35b31588dc4ab06d5cf2986e8e02,MD,ATH,MIL,0,1,ATH,MIL,2013-01-04,,,,,,,,,,,,,,,,,,,,,,,,,,,,1ASIWS,0,0,0,d41d8cd98f00b204e9800998ecf8427e,KIV\n",
        " \n",
        "ERROR: list index out of range | Reading: 2013-01-01,10:15:33,MPT,b0af35b31588dc4ab06d5cf2986e8e02,MD,ATH,MIL,0,1,ATH,MIL,2013-01-04,,,,,,,,,,,,,,,,,,,,,,,,,,,,1ASIWS,0,0,0,d41d8cd98f00b204e9800998ecf8427e,KIV\n",
        " "
       ]
      },
      {
       "output_type": "stream",
       "stream": "stdout",
       "text": [
        "\n",
        "ERROR: list index out of range | Reading: 2013-01-01,10:15:33,MPT,b0af35b31588dc4ab06d5cf2986e8e02,MD,ATH,MIL,0,1,ATH,MIL,2013-01-04,,,,,,,,,,,,,,,,,,,,,,,,,,,,1ASIWS,0,0,0,d41d8cd98f00b204e9800998ecf8427e,KIV\n",
        " "
       ]
      },
      {
       "output_type": "stream",
       "stream": "stdout",
       "text": [
        "\n",
        "ERROR: list index out of range | Reading: 2013-01-01,10:15:33,MPT,b0af35b31588dc4ab06d5cf2986e8e02,MD,ATH,MIL,0,1,ATH,MIL,2013-01-04,,,,,,,,,,,,,,,,,,,,,,,,,,,,1ASIWS,0,0,0,d41d8cd98f00b204e9800998ecf8427e,KIV\n",
        " \n",
        "ERROR: list index out of range | Reading: 2013-01-01,10:15:33,MPT,b0af35b31588dc4ab06d5cf2986e8e02,MD,ATH,MIL,0,1,ATH,MIL,2013-01-04,,,,,,,,,,,,,,,,,,,,,,,,,,,,1ASIWS,0,0,0,d41d8cd98f00b204e9800998ecf8427e,KIV\n",
        " "
       ]
      },
      {
       "output_type": "stream",
       "stream": "stdout",
       "text": [
        "\n",
        "ERROR: list index out of range | Reading: 2013-01-01,10:15:33,MPT,b0af35b31588dc4ab06d5cf2986e8e02,MD,ATH,MIL,0,1,ATH,MIL,2013-01-04,,,,,,,,,,,,,,,,,,,,,,,,,,,,1ASIWS,0,0,0,d41d8cd98f00b204e9800998ecf8427e,KIV\n",
        " "
       ]
      },
      {
       "output_type": "stream",
       "stream": "stdout",
       "text": [
        "\n",
        "ERROR: list index out of range | Reading: 2013-01-01,10:15:33,MPT,b0af35b31588dc4ab06d5cf2986e8e02,MD,ATH,MIL,0,1,ATH,MIL,2013-01-04,,,,,,,,,,,,,,,,,,,,,,,,,,,,1ASIWS,0,0,0,d41d8cd98f00b204e9800998ecf8427e,KIV\n",
        " \n",
        "ERROR: list index out of range | Reading: 2013-01-01,10:15:33,MPT,b0af35b31588dc4ab06d5cf2986e8e02,MD,ATH,MIL,0,1,ATH,MIL,2013-01-04,,,,,,,,,,,,,,,,,,,,,,,,,,,,1ASIWS,0,0,0,d41d8cd98f00b204e9800998ecf8427e,KIV\n",
        " "
       ]
      },
      {
       "output_type": "stream",
       "stream": "stdout",
       "text": [
        "\n",
        "ERROR: list index out of range | Reading: 2013-01-01,10:15:33,MPT,b0af35b31588dc4ab06d5cf2986e8e02,MD,ATH,MIL,0,1,ATH,MIL,2013-01-04,,,,,,,,,,,,,,,,,,,,,,,,,,,,1ASIWS,0,0,0,d41d8cd98f00b204e9800998ecf8427e,KIV\n",
        " "
       ]
      },
      {
       "output_type": "stream",
       "stream": "stdout",
       "text": [
        "\n",
        "ERROR: list index out of range | Reading: 2013-01-01,10:15:33,MPT,b0af35b31588dc4ab06d5cf2986e8e02,MD,ATH,MIL,0,1,ATH,MIL,2013-01-04,,,,,,,,,,,,,,,,,,,,,,,,,,,,1ASIWS,0,0,0,d41d8cd98f00b204e9800998ecf8427e,KIV\n",
        " \n",
        "ERROR: list index out of range | Reading: 2013-01-01,10:15:33,MPT,b0af35b31588dc4ab06d5cf2986e8e02,MD,ATH,MIL,0,1,ATH,MIL,2013-01-04,,,,,,,,,,,,,,,,,,,,,,,,,,,,1ASIWS,0,0,0,d41d8cd98f00b204e9800998ecf8427e,KIV\n",
        " "
       ]
      },
      {
       "output_type": "stream",
       "stream": "stdout",
       "text": [
        "\n",
        "ERROR: list index out of range | Reading: 2013-01-01,10:15:33,MPT,b0af35b31588dc4ab06d5cf2986e8e02,MD,ATH,MIL,0,1,ATH,MIL,2013-01-04,,,,,,,,,,,,,,,,,,,,,,,,,,,,1ASIWS,0,0,0,d41d8cd98f00b204e9800998ecf8427e,KIV\n",
        " "
       ]
      },
      {
       "output_type": "stream",
       "stream": "stdout",
       "text": [
        "\n",
        "ERROR: list index out of range | Reading: 2013-01-01,10:15:33,MPT,b0af35b31588dc4ab06d5cf2986e8e02,MD,ATH,MIL,0,1,ATH,MIL,2013-01-04,,,,,,,,,,,,,,,,,,,,,,,,,,,,1ASIWS,0,0,0,d41d8cd98f00b204e9800998ecf8427e,KIV\n",
        " \n",
        "ERROR: list index out of range | Reading: 2013-01-01,10:15:33,MPT,b0af35b31588dc4ab06d5cf2986e8e02,MD,ATH,MIL,0,1,ATH,MIL,2013-01-04,,,,,,,,,,,,,,,,,,,,,,,,,,,,1ASIWS,0,0,0,d41d8cd98f00b204e9800998ecf8427e,KIV\n",
        " "
       ]
      },
      {
       "output_type": "stream",
       "stream": "stdout",
       "text": [
        "\n",
        "ERROR: list index out of range | Reading: 2013-01-01,10:15:33,MPT,b0af35b31588dc4ab06d5cf2986e8e02,MD,ATH,MIL,0,1,ATH,MIL,2013-01-04,,,,,,,,,,,,,,,,,,,,,,,,,,,,1ASIWS,0,0,0,d41d8cd98f00b204e9800998ecf8427e,KIV\n",
        " "
       ]
      },
      {
       "output_type": "stream",
       "stream": "stdout",
       "text": [
        "\n",
        "ERROR: list index out of range | Reading: 2013-01-01,10:15:33,MPT,b0af35b31588dc4ab06d5cf2986e8e02,MD,ATH,MIL,0,1,ATH,MIL,2013-01-04,,,,,,,,,,,,,,,,,,,,,,,,,,,,1ASIWS,0,0,0,d41d8cd98f00b204e9800998ecf8427e,KIV\n",
        " \n",
        "ERROR: list index out of range | Reading: 2013-01-01,10:15:33,MPT,b0af35b31588dc4ab06d5cf2986e8e02,MD,ATH,MIL,0,1,ATH,MIL,2013-01-04,,,,,,,,,,,,,,,,,,,,,,,,,,,,1ASIWS,0,0,0,d41d8cd98f00b204e9800998ecf8427e,KIV\n",
        " "
       ]
      },
      {
       "output_type": "stream",
       "stream": "stdout",
       "text": [
        "\n",
        "ERROR: list index out of range | Reading: 2013-01-01,10:15:33,MPT,b0af35b31588dc4ab06d5cf2986e8e02,MD,ATH,MIL,0,1,ATH,MIL,2013-01-04,,,,,,,,,,,,,,,,,,,,,,,,,,,,1ASIWS,0,0,0,d41d8cd98f00b204e9800998ecf8427e,KIV\n",
        " "
       ]
      },
      {
       "output_type": "stream",
       "stream": "stdout",
       "text": [
        "\n",
        "ERROR: list index out of range | Reading: 2013-01-01,10:15:33,MPT,b0af35b31588dc4ab06d5cf2986e8e02,MD,ATH,MIL,0,1,ATH,MIL,2013-01-04,,,,,,,,,,,,,,,,,,,,,,,,,,,,1ASIWS,0,0,0,d41d8cd98f00b204e9800998ecf8427e,KIV\n",
        " \n",
        "CPU times: user 2min 1s, sys: 3.67 s, total: 2min 5s"
       ]
      },
      {
       "output_type": "stream",
       "stream": "stdout",
       "text": [
        "\n",
        "Wall time: 2min 7s\n"
       ]
      }
     ],
     "prompt_number": 12
    },
    {
     "cell_type": "markdown",
     "metadata": {},
     "source": [
      "We can observe that the separator **^** is not applied thorugh all the file\n",
      "\n",
      "For this particular case it is not problematic as the airport (MPT) is not in our use cases"
     ]
    },
    {
     "cell_type": "code",
     "collapsed": false,
     "input": [
      "#visual check\n",
      "counts"
     ],
     "language": "python",
     "metadata": {},
     "outputs": [
      {
       "metadata": {},
       "output_type": "pyout",
       "prompt_number": 13,
       "text": [
        "{'AGP': [9633,\n",
        "  8379,\n",
        "  10659,\n",
        "  8265,\n",
        "  10830,\n",
        "  7923,\n",
        "  8892,\n",
        "  7866,\n",
        "  8151,\n",
        "  6499,\n",
        "  6384,\n",
        "  3696],\n",
        " 'BCN': [29469,\n",
        "  28329,\n",
        "  30552,\n",
        "  31236,\n",
        "  28728,\n",
        "  26505,\n",
        "  29241,\n",
        "  27075,\n",
        "  23427,\n",
        "  20276,\n",
        "  19824,\n",
        "  15400],\n",
        " 'MAD': [24258,\n",
        "  22800,\n",
        "  24681,\n",
        "  25251,\n",
        "  26334,\n",
        "  22800,\n",
        "  22971,\n",
        "  21831,\n",
        "  21147,\n",
        "  22294,\n",
        "  20272,\n",
        "  14504]}"
       ]
      }
     ],
     "prompt_number": 13
    },
    {
     "cell_type": "markdown",
     "metadata": {},
     "source": [
      "Plotting"
     ]
    },
    {
     "cell_type": "code",
     "collapsed": false,
     "input": [
      "%matplotlib inline\n",
      "import matplotlib.pyplot as plt"
     ],
     "language": "python",
     "metadata": {},
     "outputs": [],
     "prompt_number": 17
    },
    {
     "cell_type": "code",
     "collapsed": false,
     "input": [
      "xticks = [s+' 2013' for s in['Jan','Feb','Mar','Apr','May','Jun','Jul','Aug','Sep','Oct','Nov','Dec']]\n",
      "fig, ax = plt.subplots()\n",
      "ax.plot(counts['MAD'], marker='o', label='MAD')\n",
      "ax.plot(counts['BCN'], marker='d', label='BCN')\n",
      "ax.plot(counts['AGP'], marker='v', label='AGP')\n",
      "ax.set_ylabel(\"Arrivals\")\n",
      "ax.set_xlabel(\"Date\")\n",
      "ax.set_xticks(range(len(xticks)))\n",
      "ax.set_xticklabels(xticks, rotation=50)\n",
      "plt.legend()\n",
      "plt.title('Monthly arrivals in 2013');\n"
     ],
     "language": "python",
     "metadata": {},
     "outputs": [
      {
       "metadata": {},
       "output_type": "display_data",
       "png": "[encoded data removed]",
       "text": [
        "<matplotlib.figure.Figure at 0x7f9f340ad310>"
       ]
      }
     ],
     "prompt_number": 34
    },
    {
     "cell_type": "heading",
     "level": 2,
     "metadata": {},
     "source": [
      "Conclussions"
     ]
    },
    {
     "cell_type": "markdown",
     "metadata": {},
     "source": [
      "Working with pandas was really instructive, once that I started understanding the idea everything became easier and faster.\n",
      "\n",
      "Memory usage with pandas is much higher than reading and adding line by line, and is much higher than the estimations because behind the scenes pandas needs more memory for data and also because ipython notebook keeps the history\n",
      "\n",
      "Working with incomplete data can be tricky but pandas makes it easier\n",
      "\n",
      "Processing with Pandas 3 times faster than pure python. most of the time is spent reading from disk, but later filtering and data handling operations are faster\n"
     ]
    }
   ],
   "metadata": {}
  }
 ]
}