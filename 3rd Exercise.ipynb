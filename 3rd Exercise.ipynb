{
 "metadata": {
  "name": ""
 },
 "nbformat": 3,
 "nbformat_minor": 0,
 "worksheets": [
  {
   "cells": [
    {
     "cell_type": "code",
     "collapsed": false,
     "input": [
      "#pandas\n",
      "import numpy as np\n",
      "import pandas as pd"
     ],
     "language": "python",
     "metadata": {},
     "outputs": [],
     "prompt_number": 1
    },
    {
     "cell_type": "code",
     "collapsed": false,
     "input": [
      "#geographic data\n",
      "from GeoBases import GeoBase\n",
      "geo_a = GeoBase(data='airports', verbose=False)\n",
      "#other things that might be useful\n",
      "geo_o = GeoBase(data='ori_por', verbose=False)\n",
      "#geo_t = GeoBase(data='stations', verbose=False)"
     ],
     "language": "python",
     "metadata": {},
     "outputs": [],
     "prompt_number": 2
    },
    {
     "cell_type": "markdown",
     "metadata": {},
     "source": [
      "Get the airport codes for the airports in Malaga Madrid and Barcelona"
     ]
    },
    {
     "cell_type": "code",
     "collapsed": false,
     "input": [
      "print(geo_a.fuzzyFind('Madrid', 'name'))\n",
      "print(geo_a.fuzzyFind('Barcelona', 'name'))\n",
      "print(geo_a.fuzzyFind('Malaga', 'name'))"
     ],
     "language": "python",
     "metadata": {},
     "outputs": [
      {
       "output_type": "stream",
       "stream": "stdout",
       "text": [
        "[(0.9, 'MAD'), (0.7692307692307693, 'IXM')]\n",
        "[(0.9, 'BCN'), (0.7777777777777778, 'QAK')]"
       ]
      },
      {
       "output_type": "stream",
       "stream": "stdout",
       "text": [
        "\n",
        "[(0.9, 'AGP'), (0.7692307692307693, 'PLQ'), (0.7692307692307693, 'MAK')]"
       ]
      },
      {
       "output_type": "stream",
       "stream": "stdout",
       "text": [
        "\n"
       ]
      }
     ],
     "prompt_number": 3
    },
    {
     "cell_type": "markdown",
     "metadata": {},
     "source": [
      "Verify airport names"
     ]
    },
    {
     "cell_type": "code",
     "collapsed": false,
     "input": [
      "print(\"MAD: \", geo_o.get('MAD', 'name'))\n",
      "print(\"---------------\")\n",
      "print(\"IXM: \",geo_o.get('IXM', 'name')) #NO\n",
      "print(\"---------------\")\n",
      "print(\"BCN: \",geo_o.get('BCN', 'name'))\n",
      "print(\"---------------\")\n",
      "print(\"WAK: \",geo_o.get('WAK', 'name')) #NO\n",
      "print(\"---------------\")\n",
      "print(\"AGP: \",geo_o.get('AGP', 'name'))\n",
      "print(\"---------------\")\n",
      "print(\"PLQ: \",geo_o.get('PLQ', 'name')) #NO\n",
      "print(\"---------------\")\n",
      "print(\"MAK: \",geo_o.get('MAK', 'name')) #NO"
     ],
     "language": "python",
     "metadata": {},
     "outputs": [
      {
       "output_type": "stream",
       "stream": "stdout",
       "text": [
        "('MAD: ', 'Madrid / Barajas')\n",
        "---------------\n",
        "('IXM: ', 'Madurai Airport')\n",
        "---------------\n",
        "('BCN: ', 'Barcelona\\xe2\\x80\\x93El Prat Airport')\n",
        "---------------\n",
        "('WAK: ', 'Ankazoabo')\n",
        "---------------\n",
        "('AGP: ', 'M\\xc3\\xa1laga Airport')\n",
        "---------------\n",
        "('PLQ: ', 'Palanga International Airport')\n",
        "---------------\n",
        "('MAK: ', 'Malakal Airport')\n"
       ]
      }
     ],
     "prompt_number": 4
    },
    {
     "cell_type": "code",
     "collapsed": false,
     "input": [
      "from datetime import date\n",
      "\n",
      "def strip_field(data):\n",
      "    \"\"\"\n",
      "    strip white characters from input data if is string\n",
      "    \"\"\"\n",
      "    if type(data) == str:\n",
      "        return data.strip()\n",
      "    return data\n",
      "\n",
      "def to_date(data):\n",
      "    \"\"\"\n",
      "    converts input data in yyyy-mm-dd format to python date object\n",
      "    \"\"\"\n",
      "    try:\n",
      "        ddata = [int(i) for i in '2013-01-01'.split('-')]\n",
      "        return date(ddata[0],ddata[1],ddata[2])\n",
      "    except:\n",
      "        return data\n",
      "    "
     ],
     "language": "python",
     "metadata": {},
     "outputs": [],
     "prompt_number": 15
    },
    {
     "cell_type": "code",
     "collapsed": false,
     "input": [
      "#note, this file contains only the head searches.csv output\n",
      "%time srch_test = pd.read_table('headsearch.csv',sep='^', usecols=['Date','Destination'], converters={'Date':to_date, 'Destination': strip_field})"
     ],
     "language": "python",
     "metadata": {},
     "outputs": [
      {
       "output_type": "stream",
       "stream": "stdout",
       "text": [
        "CPU times: user 1.18 ms, sys: 46 \u00b5s, total: 1.23 ms\n",
        "Wall time: 1.4 ms\n"
       ]
      }
     ],
     "prompt_number": 28
    },
    {
     "cell_type": "code",
     "collapsed": false,
     "input": [
      "srch_test.dtypes"
     ],
     "language": "python",
     "metadata": {},
     "outputs": [
      {
       "metadata": {},
       "output_type": "pyout",
       "prompt_number": 29,
       "text": [
        "Date           object\n",
        "Destination    object\n",
        "dtype: object"
       ]
      }
     ],
     "prompt_number": 29
    },
    {
     "cell_type": "code",
     "collapsed": false,
     "input": [
      "srch_test"
     ],
     "language": "python",
     "metadata": {},
     "outputs": [
      {
       "html": [
        "<div style=\"max-height:1000px;max-width:1500px;overflow:auto;\">\n",
        "<table border=\"1\" class=\"dataframe\">\n",
        "  <thead>\n",
        "    <tr style=\"text-align: right;\">\n",
        "      <th></th>\n",
        "      <th>Date</th>\n",
        "      <th>Destination</th>\n",
        "    </tr>\n",
        "  </thead>\n",
        "  <tbody>\n",
        "    <tr>\n",
        "      <th>0</th>\n",
        "      <td> 2013-01-01</td>\n",
        "      <td> AUH</td>\n",
        "    </tr>\n",
        "    <tr>\n",
        "      <th>1</th>\n",
        "      <td> 2013-01-01</td>\n",
        "      <td> MIL</td>\n",
        "    </tr>\n",
        "    <tr>\n",
        "      <th>2</th>\n",
        "      <td> 2013-01-01</td>\n",
        "      <td> SFO</td>\n",
        "    </tr>\n",
        "    <tr>\n",
        "      <th>3</th>\n",
        "      <td> 2013-01-01</td>\n",
        "      <td> ARN</td>\n",
        "    </tr>\n",
        "    <tr>\n",
        "      <th>4</th>\n",
        "      <td> 2013-01-01</td>\n",
        "      <td> MAD</td>\n",
        "    </tr>\n",
        "    <tr>\n",
        "      <th>5</th>\n",
        "      <td> 2013-01-01</td>\n",
        "      <td> BLR</td>\n",
        "    </tr>\n",
        "    <tr>\n",
        "      <th>6</th>\n",
        "      <td> 2013-01-01</td>\n",
        "      <td> PAR</td>\n",
        "    </tr>\n",
        "    <tr>\n",
        "      <th>7</th>\n",
        "      <td> 2013-01-01</td>\n",
        "      <td> DUB</td>\n",
        "    </tr>\n",
        "    <tr>\n",
        "      <th>8</th>\n",
        "      <td> 2013-01-01</td>\n",
        "      <td> ACE</td>\n",
        "    </tr>\n",
        "  </tbody>\n",
        "</table>\n",
        "</div>"
       ],
       "metadata": {},
       "output_type": "pyout",
       "prompt_number": 17,
       "text": [
        "         Date Destination\n",
        "0  2013-01-01         AUH\n",
        "1  2013-01-01         MIL\n",
        "2  2013-01-01         SFO\n",
        "3  2013-01-01         ARN\n",
        "4  2013-01-01         MAD\n",
        "5  2013-01-01         BLR\n",
        "6  2013-01-01         PAR\n",
        "7  2013-01-01         DUB\n",
        "8  2013-01-01         ACE"
       ]
      }
     ],
     "prompt_number": 17
    },
    {
     "cell_type": "code",
     "collapsed": false,
     "input": [
      "srch_test[:1].Date.nbytes"
     ],
     "language": "python",
     "metadata": {},
     "outputs": [
      {
       "metadata": {},
       "output_type": "pyout",
       "prompt_number": 40,
       "text": [
        "8"
       ]
      }
     ],
     "prompt_number": 40
    },
    {
     "cell_type": "code",
     "collapsed": false,
     "input": [
      "srch_test[:1].Destination.nbytes"
     ],
     "language": "python",
     "metadata": {},
     "outputs": [
      {
       "metadata": {},
       "output_type": "pyout",
       "prompt_number": 41,
       "text": [
        "8"
       ]
      }
     ],
     "prompt_number": 41
    },
    {
     "cell_type": "markdown",
     "metadata": {},
     "source": [
      "There are ~ 20M registers, \n",
      "    \n",
      "    index: int64 (8 bytes), Date: 8bytes, Destination: 8bytes\n",
      "    20M* (8*3) bytes"
     ]
    },
    {
     "cell_type": "code",
     "collapsed": false,
     "input": [
      "20 * 8 * 3"
     ],
     "language": "python",
     "metadata": {},
     "outputs": [
      {
       "metadata": {},
       "output_type": "pyout",
       "prompt_number": 43,
       "text": [
        "480"
       ]
      }
     ],
     "prompt_number": 43
    },
    {
     "cell_type": "markdown",
     "metadata": {},
     "source": [
      "Aproximately 500MB for the whole data structure in memory\n",
      "\n",
      "I should be able to load everything in RAM"
     ]
    },
    {
     "cell_type": "code",
     "collapsed": false,
     "input": [
      "%time srch = pd.read_table('searches.csv',sep='^', usecols=['Date','Destination'], converters={'Date':to_date, 'Destination': strip_field})"
     ],
     "language": "python",
     "metadata": {},
     "outputs": [
      {
       "output_type": "stream",
       "stream": "stdout",
       "text": [
        "CPU times: user 1min 6s, sys: 4.66 s, total: 1min 10s\n",
        "Wall time: 1min 21s\n"
       ]
      }
     ],
     "prompt_number": 4
    },
    {
     "cell_type": "markdown",
     "metadata": {},
     "source": [
      "Now preselect only the airports that are needed"
     ]
    },
    {
     "cell_type": "code",
     "collapsed": false,
     "input": [
      "#filter data by these airports\n",
      "%time s_ports = srch[srch.Destination.isin([\"MAD\", \"BCN\",\"AGP\"])]"
     ],
     "language": "python",
     "metadata": {},
     "outputs": [
      {
       "output_type": "stream",
       "stream": "stdout",
       "text": [
        "CPU times: user 1.13 s, sys: 16 ms, total: 1.14 s\n",
        "Wall time: 1.15 s\n"
       ]
      }
     ],
     "prompt_number": 6
    },
    {
     "cell_type": "code",
     "collapsed": false,
     "input": [
      "s_ports"
     ],
     "language": "python",
     "metadata": {},
     "outputs": [
      {
       "html": [
        "<div style=\"max-height:1000px;max-width:1500px;overflow:auto;\">\n",
        "<table border=\"1\" class=\"dataframe\">\n",
        "  <thead>\n",
        "    <tr style=\"text-align: right;\">\n",
        "      <th></th>\n",
        "      <th>Date</th>\n",
        "      <th>Destination</th>\n",
        "    </tr>\n",
        "  </thead>\n",
        "  <tbody>\n",
        "    <tr>\n",
        "      <th>4       </th>\n",
        "      <td> 2013-01-01</td>\n",
        "      <td> MAD</td>\n",
        "    </tr>\n",
        "    <tr>\n",
        "      <th>93      </th>\n",
        "      <td> 2013-01-01</td>\n",
        "      <td> AGP</td>\n",
        "    </tr>\n",
        "    <tr>\n",
        "      <th>113     </th>\n",
        "      <td> 2013-01-01</td>\n",
        "      <td> BCN</td>\n",
        "    </tr>\n",
        "    <tr>\n",
        "      <th>147     </th>\n",
        "      <td> 2013-01-01</td>\n",
        "      <td> AGP</td>\n",
        "    </tr>\n",
        "    <tr>\n",
        "      <th>151     </th>\n",
        "      <td> 2013-01-01</td>\n",
        "      <td> MAD</td>\n",
        "    </tr>\n",
        "    <tr>\n",
        "      <th>165     </th>\n",
        "      <td> 2013-01-01</td>\n",
        "      <td> BCN</td>\n",
        "    </tr>\n",
        "    <tr>\n",
        "      <th>177     </th>\n",
        "      <td> 2013-01-01</td>\n",
        "      <td> BCN</td>\n",
        "    </tr>\n",
        "    <tr>\n",
        "      <th>186     </th>\n",
        "      <td> 2013-01-01</td>\n",
        "      <td> BCN</td>\n",
        "    </tr>\n",
        "    <tr>\n",
        "      <th>188     </th>\n",
        "      <td> 2013-01-01</td>\n",
        "      <td> BCN</td>\n",
        "    </tr>\n",
        "    <tr>\n",
        "      <th>208     </th>\n",
        "      <td> 2013-01-01</td>\n",
        "      <td> BCN</td>\n",
        "    </tr>\n",
        "    <tr>\n",
        "      <th>229     </th>\n",
        "      <td> 2013-01-01</td>\n",
        "      <td> BCN</td>\n",
        "    </tr>\n",
        "    <tr>\n",
        "      <th>242     </th>\n",
        "      <td> 2013-01-01</td>\n",
        "      <td> AGP</td>\n",
        "    </tr>\n",
        "    <tr>\n",
        "      <th>253     </th>\n",
        "      <td> 2013-01-01</td>\n",
        "      <td> BCN</td>\n",
        "    </tr>\n",
        "    <tr>\n",
        "      <th>322     </th>\n",
        "      <td> 2013-01-01</td>\n",
        "      <td> BCN</td>\n",
        "    </tr>\n",
        "    <tr>\n",
        "      <th>365     </th>\n",
        "      <td> 2013-01-01</td>\n",
        "      <td> BCN</td>\n",
        "    </tr>\n",
        "    <tr>\n",
        "      <th>375     </th>\n",
        "      <td> 2013-01-01</td>\n",
        "      <td> MAD</td>\n",
        "    </tr>\n",
        "    <tr>\n",
        "      <th>406     </th>\n",
        "      <td> 2013-01-01</td>\n",
        "      <td> MAD</td>\n",
        "    </tr>\n",
        "    <tr>\n",
        "      <th>458     </th>\n",
        "      <td> 2013-01-01</td>\n",
        "      <td> AGP</td>\n",
        "    </tr>\n",
        "    <tr>\n",
        "      <th>481     </th>\n",
        "      <td> 2013-01-01</td>\n",
        "      <td> BCN</td>\n",
        "    </tr>\n",
        "    <tr>\n",
        "      <th>500     </th>\n",
        "      <td> 2013-01-01</td>\n",
        "      <td> BCN</td>\n",
        "    </tr>\n",
        "    <tr>\n",
        "      <th>509     </th>\n",
        "      <td> 2013-01-01</td>\n",
        "      <td> MAD</td>\n",
        "    </tr>\n",
        "    <tr>\n",
        "      <th>541     </th>\n",
        "      <td> 2013-01-01</td>\n",
        "      <td> BCN</td>\n",
        "    </tr>\n",
        "    <tr>\n",
        "      <th>593     </th>\n",
        "      <td> 2013-01-01</td>\n",
        "      <td> BCN</td>\n",
        "    </tr>\n",
        "    <tr>\n",
        "      <th>606     </th>\n",
        "      <td> 2013-01-01</td>\n",
        "      <td> MAD</td>\n",
        "    </tr>\n",
        "    <tr>\n",
        "      <th>618     </th>\n",
        "      <td> 2013-01-01</td>\n",
        "      <td> BCN</td>\n",
        "    </tr>\n",
        "    <tr>\n",
        "      <th>623     </th>\n",
        "      <td> 2013-01-01</td>\n",
        "      <td> BCN</td>\n",
        "    </tr>\n",
        "    <tr>\n",
        "      <th>628     </th>\n",
        "      <td> 2013-01-01</td>\n",
        "      <td> BCN</td>\n",
        "    </tr>\n",
        "    <tr>\n",
        "      <th>633     </th>\n",
        "      <td> 2013-01-01</td>\n",
        "      <td> BCN</td>\n",
        "    </tr>\n",
        "    <tr>\n",
        "      <th>641     </th>\n",
        "      <td> 2013-01-01</td>\n",
        "      <td> BCN</td>\n",
        "    </tr>\n",
        "    <tr>\n",
        "      <th>674     </th>\n",
        "      <td> 2013-01-01</td>\n",
        "      <td> AGP</td>\n",
        "    </tr>\n",
        "    <tr>\n",
        "      <th>...</th>\n",
        "      <td>...</td>\n",
        "      <td>...</td>\n",
        "    </tr>\n",
        "    <tr>\n",
        "      <th>20389101</th>\n",
        "      <td> 2013-01-01</td>\n",
        "      <td> MAD</td>\n",
        "    </tr>\n",
        "    <tr>\n",
        "      <th>20389110</th>\n",
        "      <td> 2013-01-01</td>\n",
        "      <td> BCN</td>\n",
        "    </tr>\n",
        "    <tr>\n",
        "      <th>20389160</th>\n",
        "      <td> 2013-01-01</td>\n",
        "      <td> MAD</td>\n",
        "    </tr>\n",
        "    <tr>\n",
        "      <th>20389172</th>\n",
        "      <td> 2013-01-01</td>\n",
        "      <td> BCN</td>\n",
        "    </tr>\n",
        "    <tr>\n",
        "      <th>20389185</th>\n",
        "      <td> 2013-01-01</td>\n",
        "      <td> BCN</td>\n",
        "    </tr>\n",
        "    <tr>\n",
        "      <th>20389206</th>\n",
        "      <td> 2013-01-01</td>\n",
        "      <td> MAD</td>\n",
        "    </tr>\n",
        "    <tr>\n",
        "      <th>20389343</th>\n",
        "      <td> 2013-01-01</td>\n",
        "      <td> BCN</td>\n",
        "    </tr>\n",
        "    <tr>\n",
        "      <th>20389409</th>\n",
        "      <td> 2013-01-01</td>\n",
        "      <td> AGP</td>\n",
        "    </tr>\n",
        "    <tr>\n",
        "      <th>20389437</th>\n",
        "      <td> 2013-01-01</td>\n",
        "      <td> BCN</td>\n",
        "    </tr>\n",
        "    <tr>\n",
        "      <th>20389478</th>\n",
        "      <td> 2013-01-01</td>\n",
        "      <td> BCN</td>\n",
        "    </tr>\n",
        "    <tr>\n",
        "      <th>20389489</th>\n",
        "      <td> 2013-01-01</td>\n",
        "      <td> BCN</td>\n",
        "    </tr>\n",
        "    <tr>\n",
        "      <th>20389517</th>\n",
        "      <td> 2013-01-01</td>\n",
        "      <td> BCN</td>\n",
        "    </tr>\n",
        "    <tr>\n",
        "      <th>20389521</th>\n",
        "      <td> 2013-01-01</td>\n",
        "      <td> BCN</td>\n",
        "    </tr>\n",
        "    <tr>\n",
        "      <th>20389552</th>\n",
        "      <td> 2013-01-01</td>\n",
        "      <td> BCN</td>\n",
        "    </tr>\n",
        "    <tr>\n",
        "      <th>20389555</th>\n",
        "      <td> 2013-01-01</td>\n",
        "      <td> MAD</td>\n",
        "    </tr>\n",
        "    <tr>\n",
        "      <th>20389558</th>\n",
        "      <td> 2013-01-01</td>\n",
        "      <td> BCN</td>\n",
        "    </tr>\n",
        "    <tr>\n",
        "      <th>20389586</th>\n",
        "      <td> 2013-01-01</td>\n",
        "      <td> BCN</td>\n",
        "    </tr>\n",
        "    <tr>\n",
        "      <th>20389617</th>\n",
        "      <td> 2013-01-01</td>\n",
        "      <td> AGP</td>\n",
        "    </tr>\n",
        "    <tr>\n",
        "      <th>20389748</th>\n",
        "      <td> 2013-01-01</td>\n",
        "      <td> MAD</td>\n",
        "    </tr>\n",
        "    <tr>\n",
        "      <th>20389790</th>\n",
        "      <td> 2013-01-01</td>\n",
        "      <td> BCN</td>\n",
        "    </tr>\n",
        "    <tr>\n",
        "      <th>20389812</th>\n",
        "      <td> 2013-01-01</td>\n",
        "      <td> BCN</td>\n",
        "    </tr>\n",
        "    <tr>\n",
        "      <th>20389834</th>\n",
        "      <td> 2013-01-01</td>\n",
        "      <td> MAD</td>\n",
        "    </tr>\n",
        "    <tr>\n",
        "      <th>20389865</th>\n",
        "      <td> 2013-01-01</td>\n",
        "      <td> BCN</td>\n",
        "    </tr>\n",
        "    <tr>\n",
        "      <th>20389878</th>\n",
        "      <td> 2013-01-01</td>\n",
        "      <td> BCN</td>\n",
        "    </tr>\n",
        "    <tr>\n",
        "      <th>20389955</th>\n",
        "      <td> 2013-01-01</td>\n",
        "      <td> BCN</td>\n",
        "    </tr>\n",
        "    <tr>\n",
        "      <th>20389978</th>\n",
        "      <td> 2013-01-01</td>\n",
        "      <td> BCN</td>\n",
        "    </tr>\n",
        "    <tr>\n",
        "      <th>20390045</th>\n",
        "      <td> 2013-01-01</td>\n",
        "      <td> MAD</td>\n",
        "    </tr>\n",
        "    <tr>\n",
        "      <th>20390073</th>\n",
        "      <td> 2013-01-01</td>\n",
        "      <td> AGP</td>\n",
        "    </tr>\n",
        "    <tr>\n",
        "      <th>20390160</th>\n",
        "      <td> 2013-01-01</td>\n",
        "      <td> MAD</td>\n",
        "    </tr>\n",
        "    <tr>\n",
        "      <th>20390196</th>\n",
        "      <td> 2013-01-01</td>\n",
        "      <td> MAD</td>\n",
        "    </tr>\n",
        "  </tbody>\n",
        "</table>\n",
        "<p>676382 rows \u00d7 2 columns</p>\n",
        "</div>"
       ],
       "metadata": {},
       "output_type": "pyout",
       "prompt_number": 7,
       "text": [
        "                Date Destination\n",
        "4         2013-01-01         MAD\n",
        "93        2013-01-01         AGP\n",
        "113       2013-01-01         BCN\n",
        "147       2013-01-01         AGP\n",
        "151       2013-01-01         MAD\n",
        "165       2013-01-01         BCN\n",
        "177       2013-01-01         BCN\n",
        "186       2013-01-01         BCN\n",
        "188       2013-01-01         BCN\n",
        "208       2013-01-01         BCN\n",
        "229       2013-01-01         BCN\n",
        "242       2013-01-01         AGP\n",
        "253       2013-01-01         BCN\n",
        "322       2013-01-01         BCN\n",
        "365       2013-01-01         BCN\n",
        "375       2013-01-01         MAD\n",
        "406       2013-01-01         MAD\n",
        "458       2013-01-01         AGP\n",
        "481       2013-01-01         BCN\n",
        "500       2013-01-01         BCN\n",
        "509       2013-01-01         MAD\n",
        "541       2013-01-01         BCN\n",
        "593       2013-01-01         BCN\n",
        "606       2013-01-01         MAD\n",
        "618       2013-01-01         BCN\n",
        "623       2013-01-01         BCN\n",
        "628       2013-01-01         BCN\n",
        "633       2013-01-01         BCN\n",
        "641       2013-01-01         BCN\n",
        "674       2013-01-01         AGP\n",
        "...              ...         ...\n",
        "20389101  2013-01-01         MAD\n",
        "20389110  2013-01-01         BCN\n",
        "20389160  2013-01-01         MAD\n",
        "20389172  2013-01-01         BCN\n",
        "20389185  2013-01-01         BCN\n",
        "20389206  2013-01-01         MAD\n",
        "20389343  2013-01-01         BCN\n",
        "20389409  2013-01-01         AGP\n",
        "20389437  2013-01-01         BCN\n",
        "20389478  2013-01-01         BCN\n",
        "20389489  2013-01-01         BCN\n",
        "20389517  2013-01-01         BCN\n",
        "20389521  2013-01-01         BCN\n",
        "20389552  2013-01-01         BCN\n",
        "20389555  2013-01-01         MAD\n",
        "20389558  2013-01-01         BCN\n",
        "20389586  2013-01-01         BCN\n",
        "20389617  2013-01-01         AGP\n",
        "20389748  2013-01-01         MAD\n",
        "20389790  2013-01-01         BCN\n",
        "20389812  2013-01-01         BCN\n",
        "20389834  2013-01-01         MAD\n",
        "20389865  2013-01-01         BCN\n",
        "20389878  2013-01-01         BCN\n",
        "20389955  2013-01-01         BCN\n",
        "20389978  2013-01-01         BCN\n",
        "20390045  2013-01-01         MAD\n",
        "20390073  2013-01-01         AGP\n",
        "20390160  2013-01-01         MAD\n",
        "20390196  2013-01-01         MAD\n",
        "\n",
        "[676382 rows x 2 columns]"
       ]
      }
     ],
     "prompt_number": 7
    },
    {
     "cell_type": "code",
     "collapsed": false,
     "input": [],
     "language": "python",
     "metadata": {},
     "outputs": []
    }
   ],
   "metadata": {}
  }
 ]
}