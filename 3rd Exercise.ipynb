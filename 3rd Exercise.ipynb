{
 "metadata": {
  "name": ""
 },
 "nbformat": 3,
 "nbformat_minor": 0,
 "worksheets": [
  {
   "cells": [
    {
     "cell_type": "heading",
     "level": 1,
     "metadata": {},
     "source": [
      "Data Analysis"
     ]
    },
    {
     "cell_type": "heading",
     "level": 2,
     "metadata": {},
     "source": [
      "3rd exercise"
     ]
    },
    {
     "cell_type": "heading",
     "level": 3,
     "metadata": {},
     "source": [
      "(IN PROGRESS)"
     ]
    },
    {
     "cell_type": "code",
     "collapsed": false,
     "input": [
      "#pandas\n",
      "import numpy as np\n",
      "import pandas as pd"
     ],
     "language": "python",
     "metadata": {},
     "outputs": [],
     "prompt_number": 1
    },
    {
     "cell_type": "code",
     "collapsed": false,
     "input": [
      "#geographic data\n",
      "from GeoBases import GeoBase\n",
      "geo_a = GeoBase(data='airports', verbose=False)\n",
      "#other things that might be useful\n",
      "geo_o = GeoBase(data='ori_por', verbose=False)\n",
      "#geo_t = GeoBase(data='stations', verbose=False)"
     ],
     "language": "python",
     "metadata": {},
     "outputs": [],
     "prompt_number": 2
    },
    {
     "cell_type": "markdown",
     "metadata": {},
     "source": [
      "Get the airport codes for the airports in Malaga Madrid and Barcelona"
     ]
    },
    {
     "cell_type": "code",
     "collapsed": false,
     "input": [
      "print(geo_a.fuzzyFind('Madrid', 'name'))\n",
      "print(geo_a.fuzzyFind('Barcelona', 'name'))\n",
      "print(geo_a.fuzzyFind('Malaga', 'name'))"
     ],
     "language": "python",
     "metadata": {},
     "outputs": [
      {
       "output_type": "stream",
       "stream": "stdout",
       "text": [
        "[(0.9, 'MAD'), (0.7692307692307693, 'IXM')]\n",
        "[(0.9, 'BCN'), (0.7777777777777778, 'QAK')]"
       ]
      },
      {
       "output_type": "stream",
       "stream": "stdout",
       "text": [
        "\n",
        "[(0.9, 'AGP'), (0.7692307692307693, 'PLQ'), (0.7692307692307693, 'MAK')]"
       ]
      },
      {
       "output_type": "stream",
       "stream": "stdout",
       "text": [
        "\n"
       ]
      }
     ],
     "prompt_number": 3
    },
    {
     "cell_type": "markdown",
     "metadata": {},
     "source": [
      "Verify airport names, and see which ones are the airports belonging to Madrid, Barcelona and Malaga"
     ]
    },
    {
     "cell_type": "code",
     "collapsed": false,
     "input": [
      "print(\"MAD: \", geo_o.get('MAD', 'name'))\n",
      "print(\"---------------\")\n",
      "print(\"IXM: \",geo_o.get('IXM', 'name')) #NO\n",
      "print(\"---------------\")\n",
      "print(\"BCN: \",geo_o.get('BCN', 'name'))\n",
      "print(\"---------------\")\n",
      "print(\"WAK: \",geo_o.get('WAK', 'name')) #NO\n",
      "print(\"---------------\")\n",
      "print(\"AGP: \",geo_o.get('AGP', 'name'))\n",
      "print(\"---------------\")\n",
      "print(\"PLQ: \",geo_o.get('PLQ', 'name')) #NO\n",
      "print(\"---------------\")\n",
      "print(\"MAK: \",geo_o.get('MAK', 'name')) #NO"
     ],
     "language": "python",
     "metadata": {},
     "outputs": [
      {
       "output_type": "stream",
       "stream": "stdout",
       "text": [
        "('MAD: ', 'Madrid / Barajas')\n",
        "---------------\n",
        "('IXM: ', 'Madurai Airport')\n",
        "---------------\n",
        "('BCN: ', 'Barcelona\\xe2\\x80\\x93El Prat Airport')\n",
        "---------------\n",
        "('WAK: ', 'Ankazoabo')\n",
        "---------------\n",
        "('AGP: ', 'M\\xc3\\xa1laga Airport')\n",
        "---------------\n",
        "('PLQ: ', 'Palanga International Airport')\n",
        "---------------\n",
        "('MAK: ', 'Malakal Airport')\n"
       ]
      }
     ],
     "prompt_number": 4
    },
    {
     "cell_type": "markdown",
     "metadata": {},
     "source": [
      "Converter helper functions for transform data on load"
     ]
    },
    {
     "cell_type": "code",
     "collapsed": false,
     "input": [
      "from datetime import date\n",
      "\n",
      "def strip_field(data):\n",
      "    \"\"\"\n",
      "    strip white characters from input data if is string\n",
      "    \"\"\"\n",
      "    if type(data) == str:\n",
      "        return data.strip()\n",
      "    return data\n",
      "\n",
      "def to_date(data):\n",
      "    \"\"\"\n",
      "    converts input data in yyyy-mm-dd format to Pandas Timestamp object.\n",
      "    If it fails returns original object\n",
      "    \"\"\"\n",
      "    try:\n",
      "        return pd.Timestamp(data)\n",
      "    except:\n",
      "        return data\n",
      "    "
     ],
     "language": "python",
     "metadata": {},
     "outputs": [],
     "prompt_number": 43
    },
    {
     "cell_type": "markdown",
     "metadata": {},
     "source": [
      "To make a memory usage estimation, first I do:\n",
      "\n",
      "    head searches.csv > headsearch.csv\n",
      "\n",
      "then I start checking memory usage and estimate for the whole dataset"
     ]
    },
    {
     "cell_type": "code",
     "collapsed": false,
     "input": [
      "%time srch_test = pd.read_table('headsearch.csv',sep='^', usecols=['Date','Destination'], converters={'Date':to_date, 'Destination': strip_field})"
     ],
     "language": "python",
     "metadata": {},
     "outputs": [
      {
       "output_type": "stream",
       "stream": "stdout",
       "text": [
        "CPU times: user 1.46 ms, sys: 0 ns, total: 1.46 ms\n",
        "Wall time: 46.4 ms\n"
       ]
      }
     ],
     "prompt_number": 32
    },
    {
     "cell_type": "code",
     "collapsed": false,
     "input": [
      "srch_test.dtypes"
     ],
     "language": "python",
     "metadata": {},
     "outputs": [
      {
       "metadata": {},
       "output_type": "pyout",
       "prompt_number": 33,
       "text": [
        "Date           datetime64[ns]\n",
        "Destination            object\n",
        "dtype: object"
       ]
      }
     ],
     "prompt_number": 33
    },
    {
     "cell_type": "code",
     "collapsed": false,
     "input": [
      "srch_test[:1].Date.nbytes"
     ],
     "language": "python",
     "metadata": {},
     "outputs": [
      {
       "metadata": {},
       "output_type": "pyout",
       "prompt_number": 34,
       "text": [
        "8"
       ]
      }
     ],
     "prompt_number": 34
    },
    {
     "cell_type": "code",
     "collapsed": false,
     "input": [
      "srch_test[:1].Destination.nbytes"
     ],
     "language": "python",
     "metadata": {},
     "outputs": [
      {
       "metadata": {},
       "output_type": "pyout",
       "prompt_number": 14,
       "text": [
        "8"
       ]
      }
     ],
     "prompt_number": 14
    },
    {
     "cell_type": "code",
     "collapsed": false,
     "input": [
      "srch_test.memory_usage(index=True)"
     ],
     "language": "python",
     "metadata": {},
     "outputs": [
      {
       "metadata": {},
       "output_type": "pyout",
       "prompt_number": 17,
       "text": [
        "Index          72\n",
        "Date           72\n",
        "Destination    72\n",
        "dtype: int64"
       ]
      }
     ],
     "prompt_number": 17
    },
    {
     "cell_type": "markdown",
     "metadata": {},
     "source": [
      "####Memory estimation\n",
      "\n",
      "There are ~ 20M registers, \n",
      "    \n",
      "    index: int64 (8 bytes), Date: 8bytes, Destination: 8bytes\n",
      "    20M* (8*3) bytes"
     ]
    },
    {
     "cell_type": "code",
     "collapsed": false,
     "input": [
      "20 * 8 * 3"
     ],
     "language": "python",
     "metadata": {},
     "outputs": [
      {
       "metadata": {},
       "output_type": "pyout",
       "prompt_number": 43,
       "text": [
        "480"
       ]
      }
     ],
     "prompt_number": 43
    },
    {
     "cell_type": "markdown",
     "metadata": {},
     "source": [
      "Aproximately 480MB for the whole data structure in memory\n",
      "\n",
      "I should be able to load everything in RAM"
     ]
    },
    {
     "cell_type": "markdown",
     "metadata": {},
     "source": [
      "####Loading data"
     ]
    },
    {
     "cell_type": "code",
     "collapsed": false,
     "input": [
      "%time srch = pd.read_table('searches.csv',sep='^', usecols=['Date','Destination'], converters={'Date':to_date, 'Destination': strip_field})"
     ],
     "language": "python",
     "metadata": {},
     "outputs": [
      {
       "output_type": "stream",
       "stream": "stdout",
       "text": [
        "CPU times: user 1min 1s, sys: 4.86 s, total: 1min 6s\n",
        "Wall time: 1min 15s\n"
       ]
      }
     ],
     "prompt_number": 26
    },
    {
     "cell_type": "markdown",
     "metadata": {},
     "source": [
      "####Filtering data\n",
      "\n",
      "Preselect only the airports that are needed, time for reference"
     ]
    },
    {
     "cell_type": "code",
     "collapsed": false,
     "input": [
      "%time s_ports = srch[srch.Destination.isin([\"MAD\", \"BCN\",\"AGP\"])]"
     ],
     "language": "python",
     "metadata": {},
     "outputs": [
      {
       "output_type": "stream",
       "stream": "stdout",
       "text": [
        "CPU times: user 1.1 s, sys: 62.4 ms, total: 1.16 s\n",
        "Wall time: 1.16 s\n"
       ]
      }
     ],
     "prompt_number": 52
    },
    {
     "cell_type": "markdown",
     "metadata": {},
     "source": [
      "####Visual Check"
     ]
    },
    {
     "cell_type": "markdown",
     "metadata": {},
     "source": [
      "Memory check"
     ]
    },
    {
     "cell_type": "code",
     "collapsed": false,
     "input": [
      "dfs = {\"srch\": srch,\n",
      "       \"s_ports\": s_ports,\n",
      "      }\n",
      "\n",
      "for k,v in dfs.iteritems():\n",
      "    print (k+\" mem: %f MB\" % (v.memory_usage(index=True).sum()/1024000.0))\n"
     ],
     "language": "python",
     "metadata": {},
     "outputs": [
      {
       "output_type": "stream",
       "stream": "stdout",
       "text": [
        "s_ports mem: 15.852703 MB\n",
        "srch mem: 477.895266 MB\n"
       ]
      }
     ],
     "prompt_number": 53
    },
    {
     "cell_type": "markdown",
     "metadata": {},
     "source": [
      "Content check"
     ]
    },
    {
     "cell_type": "code",
     "collapsed": false,
     "input": [
      "print (s_ports)"
     ],
     "language": "python",
     "metadata": {},
     "outputs": [
      {
       "output_type": "stream",
       "stream": "stdout",
       "text": [
        "                         Date Destination\n",
        "4         2013-01-01 00:00:00         MAD\n",
        "93        2013-01-01 00:00:00         AGP\n",
        "113       2013-01-01 00:00:00         BCN\n",
        "147       2013-01-01 00:00:00         AGP\n",
        "151       2013-01-01 00:00:00         MAD\n",
        "165       2013-01-01 00:00:00         BCN\n",
        "177       2013-01-01 00:00:00         BCN\n",
        "186       2013-01-01 00:00:00         BCN\n",
        "188       2013-01-01 00:00:00         BCN\n",
        "208       2013-01-01 00:00:00         BCN\n",
        "229       2013-01-01 00:00:00         BCN\n",
        "242       2013-01-01 00:00:00         AGP\n",
        "253       2013-01-01 00:00:00         BCN\n",
        "322       2013-01-01 00:00:00         BCN\n",
        "365       2013-01-01 00:00:00         BCN\n",
        "375       2013-01-01 00:00:00         MAD\n",
        "406       2013-01-01 00:00:00         MAD\n",
        "458       2013-01-01 00:00:00         AGP\n",
        "481       2013-01-01 00:00:00         BCN\n",
        "500       2013-01-01 00:00:00         BCN\n",
        "509       2013-01-01 00:00:00         MAD\n",
        "541       2013-01-01 00:00:00         BCN\n",
        "593       2013-01-01 00:00:00         BCN\n",
        "606       2013-01-01 00:00:00         MAD\n",
        "618       2013-01-01 00:00:00         BCN\n",
        "623       2013-01-01 00:00:00         BCN\n",
        "628       2013-01-01 00:00:00         BCN\n",
        "633       2013-01-01 00:00:00         BCN\n",
        "641       2013-01-01 00:00:00         BCN\n",
        "674       2013-01-01 00:00:00         AGP\n",
        "...                       ...         ...\n",
        "20389101  2013-10-12 00:00:00         MAD\n",
        "20389110  2013-10-12 00:00:00         BCN\n",
        "20389160  2013-10-12 00:00:00         MAD\n",
        "20389172  2013-10-12 00:00:00         BCN\n",
        "20389185  2013-10-12 00:00:00         BCN\n",
        "20389206  2013-10-12 00:00:00         MAD\n",
        "20389343  2013-10-13 00:00:00         BCN\n",
        "20389409  2013-10-13 00:00:00         AGP\n",
        "20389437  2013-10-13 00:00:00         BCN\n",
        "20389478  2013-10-13 00:00:00         BCN\n",
        "20389489  2013-10-13 00:00:00         BCN\n",
        "20389517  2013-10-13 00:00:00         BCN\n",
        "20389521  2013-10-13 00:00:00         BCN\n",
        "20389552  2013-10-13 00:00:00         BCN\n",
        "20389555  2013-10-13 00:00:00         MAD\n",
        "20389558  2013-10-13 00:00:00         BCN\n",
        "20389586  2013-10-13 00:00:00         BCN\n",
        "20389617  2013-10-13 00:00:00         AGP\n",
        "20389748  2013-10-13 00:00:00         MAD\n",
        "20389790  2013-10-13 00:00:00         BCN\n",
        "20389812  2013-10-13 00:00:00         BCN\n",
        "20389834  2013-10-13 00:00:00         MAD\n",
        "20389865  2013-10-13 00:00:00         BCN\n",
        "20389878  2013-10-13 00:00:00         BCN\n",
        "20389955  2013-10-13 00:00:00         BCN\n",
        "20389978  2013-10-13 00:00:00         BCN\n",
        "20390045  2013-10-13 00:00:00         MAD\n",
        "20390073  2013-10-13 00:00:00         AGP\n",
        "20390160  2013-10-13 00:00:00         MAD\n",
        "20390196  2013-10-13 00:00:00         MAD\n",
        "\n",
        "[676382 rows x 2 columns]\n"
       ]
      }
     ],
     "prompt_number": 54
    },
    {
     "cell_type": "markdown",
     "metadata": {},
     "source": [
      "Grouping"
     ]
    },
    {
     "cell_type": "code",
     "collapsed": false,
     "input": [
      "s_ports.groupby('Destination').size()"
     ],
     "language": "python",
     "metadata": {},
     "outputs": [
      {
       "metadata": {},
       "output_type": "pyout",
       "prompt_number": 67,
       "text": [
        "Destination\n",
        "AGP             97177\n",
        "BCN            310062\n",
        "MAD            269143\n",
        "dtype: int64"
       ]
      }
     ],
     "prompt_number": 67
    },
    {
     "cell_type": "code",
     "collapsed": false,
     "input": [],
     "language": "python",
     "metadata": {},
     "outputs": []
    }
   ],
   "metadata": {}
  }
 ]
}