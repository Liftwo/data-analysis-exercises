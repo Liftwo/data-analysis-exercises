{
 "metadata": {
  "name": ""
 },
 "nbformat": 3,
 "nbformat_minor": 0,
 "worksheets": [
  {
   "cells": [
    {
     "cell_type": "heading",
     "level": 1,
     "metadata": {},
     "source": [
      "Data Analysis"
     ]
    },
    {
     "cell_type": "heading",
     "level": 2,
     "metadata": {},
     "source": [
      "2nd Exercise"
     ]
    },
    {
     "cell_type": "markdown",
     "metadata": {},
     "source": [
      "1. Find the top 10 arrival airports in the world in 2013\n",
      "2. Print the top 10 arrival airports in the standard output, including the number of passengers.\n",
      "3. [E] Get the name of the city or airport corresponding to that airport\n"
     ]
    },
    {
     "cell_type": "code",
     "collapsed": false,
     "input": [
      "#pandas\n",
      "import numpy as np\n",
      "import pandas as pd\n",
      "\n",
      "#geographic data\n",
      "from GeoBases import GeoBase\n",
      "#geo_a = GeoBase(data='airports', verbose=False)\n",
      "geo_o = GeoBase(data='ori_por', verbose=False)\n",
      "#geo_t = GeoBase(data='stations', verbose=False)\n"
     ],
     "language": "python",
     "metadata": {},
     "outputs": [],
     "prompt_number": 1
    },
    {
     "cell_type": "code",
     "collapsed": false,
     "input": [
      "def strip_field(data):\n",
      "    \"\"\"\n",
      "    strip white characters from input data if is string\n",
      "    \"\"\"\n",
      "    if type(data) == str:\n",
      "        return data.strip()\n",
      "    return data\n",
      "\n",
      "def to_date(data):\n",
      "    \"\"\"\n",
      "    converts input data in yyyy-mm-dd format to Pandas Timestamp object.\n",
      "    If it fails returns original object\n",
      "    \"\"\"\n",
      "    try:\n",
      "        return pd.Timestamp(data)\n",
      "    except:\n",
      "        return data\n",
      "    "
     ],
     "language": "python",
     "metadata": {},
     "outputs": [],
     "prompt_number": 2
    },
    {
     "cell_type": "code",
     "collapsed": false,
     "input": [
      "#load first line of the bookings file to get names that will be parsed ...\n",
      "\n",
      "with open('bookings.csv') as f:\n",
      "    head = f.readline()\n",
      "    \n",
      "#split as the separator will do\n",
      "headers = head.split('^')\n",
      "for i in headers:\n",
      "    if 'arr_port' in i:\n",
      "        arr_port = i\n",
      "    elif 'pax' in i:\n",
      "        pax = i\n",
      "    elif 'off_time' in i:\n",
      "        off_time = i\n",
      "        \n",
      "#visual check of whitespaces\n",
      "print '\"'+arr_port+'\"'\n",
      "print '\"'+pax+'\"'\n",
      "print '\"'+off_time+'\"'"
     ],
     "language": "python",
     "metadata": {},
     "outputs": [
      {
       "output_type": "stream",
       "stream": "stdout",
       "text": [
        "\"arr_port\"\n",
        "\"pax\"\n",
        "\"off_time           \"\n"
       ]
      }
     ],
     "prompt_number": 3
    },
    {
     "cell_type": "code",
     "collapsed": false,
     "input": [
      "#working with converter instead of multichar regex 'sep' field to avoid problem\n",
      "#https://github.com/pydata/pandas/issues/6607\n",
      "#load with the wrong name (with whitespaces)\n",
      "%time bks = pd.read_table('bookings.csv',sep='^', usecols=[arr_port, pax, off_time], converters={arr_port:strip_field, off_time: to_date})\n",
      "#now change column name\n",
      "bks.rename(columns=lambda x: x.strip(), inplace=True)"
     ],
     "language": "python",
     "metadata": {},
     "outputs": [
      {
       "output_type": "stream",
       "stream": "stdout",
       "text": [
        "CPU times: user 40.2 s, sys: 5.45 s, total: 45.7 s\n",
        "Wall time: 1min 25s\n"
       ]
      }
     ],
     "prompt_number": 4
    },
    {
     "cell_type": "code",
     "collapsed": false,
     "input": [
      "bks.dtypes"
     ],
     "language": "python",
     "metadata": {},
     "outputs": [
      {
       "metadata": {},
       "output_type": "pyout",
       "prompt_number": 5,
       "text": [
        "arr_port     object\n",
        "off_time     object\n",
        "pax         float64\n",
        "dtype: object"
       ]
      }
     ],
     "prompt_number": 5
    },
    {
     "cell_type": "code",
     "collapsed": false,
     "input": [
      "bks.memory_usage(index=True)"
     ],
     "language": "python",
     "metadata": {},
     "outputs": [
      {
       "metadata": {},
       "output_type": "pyout",
       "prompt_number": 6,
       "text": [
        "Index       80000080\n",
        "arr_port    80000080\n",
        "off_time    80000080\n",
        "pax         80000080\n",
        "dtype: int64"
       ]
      }
     ],
     "prompt_number": 6
    },
    {
     "cell_type": "code",
     "collapsed": false,
     "input": [
      "#check strip worked correclty\n",
      "bks.arr_port[100]"
     ],
     "language": "python",
     "metadata": {},
     "outputs": [
      {
       "metadata": {},
       "output_type": "pyout",
       "prompt_number": 7,
       "text": [
        "'BKK'"
       ]
      }
     ],
     "prompt_number": 7
    },
    {
     "cell_type": "code",
     "collapsed": false,
     "input": [
      "#visual check\n",
      "bks.head()"
     ],
     "language": "python",
     "metadata": {},
     "outputs": [
      {
       "html": [
        "<div style=\"max-height:1000px;max-width:1500px;overflow:auto;\">\n",
        "<table border=\"1\" class=\"dataframe\">\n",
        "  <thead>\n",
        "    <tr style=\"text-align: right;\">\n",
        "      <th></th>\n",
        "      <th>arr_port</th>\n",
        "      <th>off_time</th>\n",
        "      <th>pax</th>\n",
        "    </tr>\n",
        "  </thead>\n",
        "  <tbody>\n",
        "    <tr>\n",
        "      <th>0</th>\n",
        "      <td> LHR</td>\n",
        "      <td> 2013-03-07 11:33:37</td>\n",
        "      <td>-1</td>\n",
        "    </tr>\n",
        "    <tr>\n",
        "      <th>1</th>\n",
        "      <td> CLT</td>\n",
        "      <td> 2013-04-12 22:05:40</td>\n",
        "      <td> 1</td>\n",
        "    </tr>\n",
        "    <tr>\n",
        "      <th>2</th>\n",
        "      <td> CLT</td>\n",
        "      <td> 2013-07-15 11:34:51</td>\n",
        "      <td> 1</td>\n",
        "    </tr>\n",
        "    <tr>\n",
        "      <th>3</th>\n",
        "      <td> SVO</td>\n",
        "      <td> 2013-04-25 16:06:31</td>\n",
        "      <td> 1</td>\n",
        "    </tr>\n",
        "    <tr>\n",
        "      <th>4</th>\n",
        "      <td> SVO</td>\n",
        "      <td> 2013-05-16 10:44:50</td>\n",
        "      <td> 1</td>\n",
        "    </tr>\n",
        "  </tbody>\n",
        "</table>\n",
        "</div>"
       ],
       "metadata": {},
       "output_type": "pyout",
       "prompt_number": 8,
       "text": [
        "  arr_port             off_time  pax\n",
        "0      LHR  2013-03-07 11:33:37   -1\n",
        "1      CLT  2013-04-12 22:05:40    1\n",
        "2      CLT  2013-07-15 11:34:51    1\n",
        "3      SVO  2013-04-25 16:06:31    1\n",
        "4      SVO  2013-05-16 10:44:50    1"
       ]
      }
     ],
     "prompt_number": 8
    },
    {
     "cell_type": "markdown",
     "metadata": {},
     "source": [
      "Obtain the top 10"
     ]
    },
    {
     "cell_type": "code",
     "collapsed": false,
     "input": [
      "ot = bks.off_time"
     ],
     "language": "python",
     "metadata": {},
     "outputs": [],
     "prompt_number": 9
    },
    {
     "cell_type": "code",
     "collapsed": false,
     "input": [
      "ts = ot[0]"
     ],
     "language": "python",
     "metadata": {},
     "outputs": [],
     "prompt_number": 10
    },
    {
     "cell_type": "code",
     "collapsed": false,
     "input": [
      "#find out type for filter (handling null data)\n",
      "type(ts)"
     ],
     "language": "python",
     "metadata": {},
     "outputs": [
      {
       "metadata": {},
       "output_type": "pyout",
       "prompt_number": 49,
       "text": [
        "pandas.tslib.Timestamp"
       ]
      }
     ],
     "prompt_number": 49
    },
    {
     "cell_type": "code",
     "collapsed": false,
     "input": [
      "#group by airport filtering by year 2013 and sum:\n",
      "#%time arrs = bks[bks.off_time.apply(filter_2013)].groupby('arr_port').sum()\n",
      "%time arrs = bks[bks.off_time.apply(lambda x: x.date().year == 2013 if (type(x) == pd.tslib.Timestamp ) else False)].groupby('arr_port').sum()\n",
      "#TODO sum only pax column, avoid using the timestamp column"
     ],
     "language": "python",
     "metadata": {},
     "outputs": [
      {
       "output_type": "stream",
       "stream": "stdout",
       "text": [
        "CPU times: user 6.31 s, sys: 868 ms, total: 7.18 s\n",
        "Wall time: 7.14 s\n"
       ]
      }
     ],
     "prompt_number": 50
    },
    {
     "cell_type": "code",
     "collapsed": false,
     "input": [
      "arrs.head()"
     ],
     "language": "python",
     "metadata": {},
     "outputs": [
      {
       "html": [
        "<div style=\"max-height:1000px;max-width:1500px;overflow:auto;\">\n",
        "<table border=\"1\" class=\"dataframe\">\n",
        "  <thead>\n",
        "    <tr style=\"text-align: right;\">\n",
        "      <th></th>\n",
        "      <th>pax</th>\n",
        "    </tr>\n",
        "    <tr>\n",
        "      <th>arr_port</th>\n",
        "      <th></th>\n",
        "    </tr>\n",
        "  </thead>\n",
        "  <tbody>\n",
        "    <tr>\n",
        "      <th>LHR</th>\n",
        "      <td> 81439</td>\n",
        "    </tr>\n",
        "    <tr>\n",
        "      <th>LAX</th>\n",
        "      <td> 64230</td>\n",
        "    </tr>\n",
        "    <tr>\n",
        "      <th>LAS</th>\n",
        "      <td> 63190</td>\n",
        "    </tr>\n",
        "    <tr>\n",
        "      <th>MCO</th>\n",
        "      <td> 62290</td>\n",
        "    </tr>\n",
        "    <tr>\n",
        "      <th>JFK</th>\n",
        "      <td> 60060</td>\n",
        "    </tr>\n",
        "  </tbody>\n",
        "</table>\n",
        "</div>"
       ],
       "metadata": {},
       "output_type": "pyout",
       "prompt_number": 56,
       "text": [
        "            pax\n",
        "arr_port       \n",
        "LHR       81439\n",
        "LAX       64230\n",
        "LAS       63190\n",
        "MCO       62290\n",
        "JFK       60060"
       ]
      }
     ],
     "prompt_number": 56
    },
    {
     "cell_type": "code",
     "collapsed": false,
     "input": [
      "bks.head()"
     ],
     "language": "python",
     "metadata": {},
     "outputs": [
      {
       "html": [
        "<div style=\"max-height:1000px;max-width:1500px;overflow:auto;\">\n",
        "<table border=\"1\" class=\"dataframe\">\n",
        "  <thead>\n",
        "    <tr style=\"text-align: right;\">\n",
        "      <th></th>\n",
        "      <th>arr_port</th>\n",
        "      <th>off_time</th>\n",
        "      <th>pax</th>\n",
        "    </tr>\n",
        "  </thead>\n",
        "  <tbody>\n",
        "    <tr>\n",
        "      <th>0</th>\n",
        "      <td> LHR</td>\n",
        "      <td> 2013-03-07 11:33:37</td>\n",
        "      <td>-1</td>\n",
        "    </tr>\n",
        "    <tr>\n",
        "      <th>1</th>\n",
        "      <td> CLT</td>\n",
        "      <td> 2013-04-12 22:05:40</td>\n",
        "      <td> 1</td>\n",
        "    </tr>\n",
        "    <tr>\n",
        "      <th>2</th>\n",
        "      <td> CLT</td>\n",
        "      <td> 2013-07-15 11:34:51</td>\n",
        "      <td> 1</td>\n",
        "    </tr>\n",
        "    <tr>\n",
        "      <th>3</th>\n",
        "      <td> SVO</td>\n",
        "      <td> 2013-04-25 16:06:31</td>\n",
        "      <td> 1</td>\n",
        "    </tr>\n",
        "    <tr>\n",
        "      <th>4</th>\n",
        "      <td> SVO</td>\n",
        "      <td> 2013-05-16 10:44:50</td>\n",
        "      <td> 1</td>\n",
        "    </tr>\n",
        "  </tbody>\n",
        "</table>\n",
        "</div>"
       ],
       "metadata": {},
       "output_type": "pyout",
       "prompt_number": 57,
       "text": [
        "  arr_port             off_time  pax\n",
        "0      LHR  2013-03-07 11:33:37   -1\n",
        "1      CLT  2013-04-12 22:05:40    1\n",
        "2      CLT  2013-07-15 11:34:51    1\n",
        "3      SVO  2013-04-25 16:06:31    1\n",
        "4      SVO  2013-05-16 10:44:50    1"
       ]
      }
     ],
     "prompt_number": 57
    },
    {
     "cell_type": "code",
     "collapsed": false,
     "input": [
      "#sort inline for not copying\n",
      "%time arrs.sort('pax', ascending=False, inplace=True)\n",
      "#print\n",
      "top10 = arrs.head(10)"
     ],
     "language": "python",
     "metadata": {},
     "outputs": [
      {
       "output_type": "stream",
       "stream": "stdout",
       "text": [
        "CPU times: user 0 ns, sys: 3.82 ms, total: 3.82 ms\n",
        "Wall time: 2.29 ms\n"
       ]
      }
     ],
     "prompt_number": 52
    },
    {
     "cell_type": "code",
     "collapsed": false,
     "input": [
      "top10"
     ],
     "language": "python",
     "metadata": {},
     "outputs": [
      {
       "html": [
        "<div style=\"max-height:1000px;max-width:1500px;overflow:auto;\">\n",
        "<table border=\"1\" class=\"dataframe\">\n",
        "  <thead>\n",
        "    <tr style=\"text-align: right;\">\n",
        "      <th></th>\n",
        "      <th>pax</th>\n",
        "    </tr>\n",
        "    <tr>\n",
        "      <th>arr_port</th>\n",
        "      <th></th>\n",
        "    </tr>\n",
        "  </thead>\n",
        "  <tbody>\n",
        "    <tr>\n",
        "      <th>LHR</th>\n",
        "      <td> 81439</td>\n",
        "    </tr>\n",
        "    <tr>\n",
        "      <th>LAX</th>\n",
        "      <td> 64230</td>\n",
        "    </tr>\n",
        "    <tr>\n",
        "      <th>LAS</th>\n",
        "      <td> 63190</td>\n",
        "    </tr>\n",
        "    <tr>\n",
        "      <th>MCO</th>\n",
        "      <td> 62290</td>\n",
        "    </tr>\n",
        "    <tr>\n",
        "      <th>JFK</th>\n",
        "      <td> 60060</td>\n",
        "    </tr>\n",
        "    <tr>\n",
        "      <th>CDG</th>\n",
        "      <td> 58080</td>\n",
        "    </tr>\n",
        "    <tr>\n",
        "      <th>SFO</th>\n",
        "      <td> 53710</td>\n",
        "    </tr>\n",
        "    <tr>\n",
        "      <th>MIA</th>\n",
        "      <td> 53020</td>\n",
        "    </tr>\n",
        "    <tr>\n",
        "      <th>BKK</th>\n",
        "      <td> 52660</td>\n",
        "    </tr>\n",
        "    <tr>\n",
        "      <th>DXB</th>\n",
        "      <td> 52230</td>\n",
        "    </tr>\n",
        "  </tbody>\n",
        "</table>\n",
        "</div>"
       ],
       "metadata": {},
       "output_type": "pyout",
       "prompt_number": 58,
       "text": [
        "            pax\n",
        "arr_port       \n",
        "LHR       81439\n",
        "LAX       64230\n",
        "LAS       63190\n",
        "MCO       62290\n",
        "JFK       60060\n",
        "CDG       58080\n",
        "SFO       53710\n",
        "MIA       53020\n",
        "BKK       52660\n",
        "DXB       52230"
       ]
      }
     ],
     "prompt_number": 58
    },
    {
     "cell_type": "code",
     "collapsed": false,
     "input": [
      "print(top10)"
     ],
     "language": "python",
     "metadata": {},
     "outputs": [
      {
       "output_type": "stream",
       "stream": "stdout",
       "text": [
        "            pax\n",
        "arr_port       \n",
        "LHR       81439\n",
        "LAX       64230\n",
        "LAS       63190\n",
        "MCO       62290\n",
        "JFK       60060\n",
        "CDG       58080\n",
        "SFO       53710\n",
        "MIA       53020\n",
        "BKK       52660\n",
        "DXB       52230\n"
       ]
      }
     ],
     "prompt_number": 59
    },
    {
     "cell_type": "code",
     "collapsed": false,
     "input": [
      "#geographic data\n",
      "#recover arr_port as column\n",
      "for i in top10.index:\n",
      "    print (\"Code: %s, name: %s \"% (i.strip(),geo_o.get(i.strip(), 'name')))"
     ],
     "language": "python",
     "metadata": {},
     "outputs": [
      {
       "output_type": "stream",
       "stream": "stdout",
       "text": [
        "Code: LHR, name: London Heathrow Airport \n",
        "Code: LAX, name: Los Angeles International Airport \n",
        "Code: LAS, name: Mc Carran International Airport \n",
        "Code: MCO, name: Orlando International Airport \n",
        "Code: JFK, name: John F Kennedy International Airport \n",
        "Code: CDG, name: Paris - Charles-de-Gaulle \n",
        "Code: SFO, name: San Francisco International Airport \n",
        "Code: MIA, name: Miami International Airport \n",
        "Code: BKK, name: Suvarnabhumi \n",
        "Code: DXB, name: Dubai International Airport \n"
       ]
      }
     ],
     "prompt_number": 61
    },
    {
     "cell_type": "markdown",
     "metadata": {},
     "source": [
      "But, there are negative sums, this might mean that the database extract is not complete or a problem arised"
     ]
    },
    {
     "cell_type": "code",
     "collapsed": false,
     "input": [
      "arrs.tail()"
     ],
     "language": "python",
     "metadata": {},
     "outputs": [
      {
       "html": [
        "<div style=\"max-height:1000px;max-width:1500px;overflow:auto;\">\n",
        "<table border=\"1\" class=\"dataframe\">\n",
        "  <thead>\n",
        "    <tr style=\"text-align: right;\">\n",
        "      <th></th>\n",
        "      <th>pax</th>\n",
        "    </tr>\n",
        "    <tr>\n",
        "      <th>arr_port</th>\n",
        "      <th></th>\n",
        "    </tr>\n",
        "  </thead>\n",
        "  <tbody>\n",
        "    <tr>\n",
        "      <th>XWG</th>\n",
        "      <td>  -90</td>\n",
        "    </tr>\n",
        "    <tr>\n",
        "      <th>CXR</th>\n",
        "      <td> -120</td>\n",
        "    </tr>\n",
        "    <tr>\n",
        "      <th>FLW</th>\n",
        "      <td> -190</td>\n",
        "    </tr>\n",
        "    <tr>\n",
        "      <th>MZV</th>\n",
        "      <td> -350</td>\n",
        "    </tr>\n",
        "    <tr>\n",
        "      <th>AYQ</th>\n",
        "      <td>-1290</td>\n",
        "    </tr>\n",
        "  </tbody>\n",
        "</table>\n",
        "</div>"
       ],
       "metadata": {},
       "output_type": "pyout",
       "prompt_number": 62,
       "text": [
        "           pax\n",
        "arr_port      \n",
        "XWG        -90\n",
        "CXR       -120\n",
        "FLW       -190\n",
        "MZV       -350\n",
        "AYQ      -1290"
       ]
      }
     ],
     "prompt_number": 62
    },
    {
     "cell_type": "heading",
     "level": 3,
     "metadata": {},
     "source": [
      "Pure python implementation"
     ]
    },
    {
     "cell_type": "code",
     "collapsed": false,
     "input": [
      "#cleanup everything\n",
      "%reset\n",
      "import gc\n",
      "gc.collect()"
     ],
     "language": "python",
     "metadata": {},
     "outputs": [
      {
       "name": "stdout",
       "output_type": "stream",
       "stream": "stdout",
       "text": [
        "Once deleted, variables cannot be recovered. Proceed (y/[n])? y\n"
       ]
      },
      {
       "metadata": {},
       "output_type": "pyout",
       "prompt_number": 69,
       "text": [
        "0"
       ]
      }
     ],
     "prompt_number": 69
    },
    {
     "cell_type": "code",
     "collapsed": false,
     "input": [
      "import datetime"
     ],
     "language": "python",
     "metadata": {},
     "outputs": [],
     "prompt_number": 72
    },
    {
     "cell_type": "code",
     "collapsed": false,
     "input": [
      "#get header\n",
      "headers = None\n",
      "with open('headbook.csv', 'r') as f:\n",
      "    for l in f:\n",
      "        fields = [i.strip() for i in l.split('^')]\n",
      "        if headers is None:\n",
      "            headers = fields\n",
      "            break\n",
      "\n",
      "#get IATA code index\n",
      "print headers.index('arr_port')\n",
      "#get timestamp index\n",
      "print headers.index('off_time')\n",
      "#get passangers index\n",
      "print headers.index('pax')\n"
     ],
     "language": "python",
     "metadata": {},
     "outputs": [
      {
       "output_type": "stream",
       "stream": "stdout",
       "text": [
        "12\n",
        "33\n",
        "34\n"
       ]
      }
     ],
     "prompt_number": 73
    },
    {
     "cell_type": "code",
     "collapsed": false,
     "input": [
      "#define function that makes the processing\n",
      "def group_by_port(fname, arr_dict):\n",
      "    with open(fname, 'r') as f:\n",
      "        for l in f:\n",
      "            fields = [i.strip() for i in l.split('^')]\n",
      "            #be careful with empty fields \n",
      "            try:\n",
      "                #get destination IATA code\n",
      "                dst = fields[12]\n",
      "                #get passangers\n",
      "                psg = int(fields[34])\n",
      "                #get timestamp\n",
      "                ts = datetime.datetime.strptime(fields[33].split()[0], \"%Y-%m-%d\")\n",
      "                #sum\n",
      "                if dst not in arr_dict:\n",
      "                    arr_dict[dst] = 0\n",
      "                if ts.year == 2013:\n",
      "                    arr_dict[dst] += psg\n",
      "            except Exception as e:\n",
      "                #print (\"ERROR %s reading %s \" %(e,l))\n",
      "                pass\n"
     ],
     "language": "python",
     "metadata": {},
     "outputs": [],
     "prompt_number": 112
    },
    {
     "cell_type": "code",
     "collapsed": false,
     "input": [
      "#arrival dictionary containing the airports IATA codes and the sum for year 2013\n",
      "arr_dict = {}\n",
      "%time group_by_port('bookings.csv', arr_dict)"
     ],
     "language": "python",
     "metadata": {},
     "outputs": [
      {
       "output_type": "stream",
       "stream": "stdout",
       "text": [
        "CPU times: user 2min 48s, sys: 4.74 s, total: 2min 53s\n",
        "Wall time: 3min 4s\n"
       ]
      }
     ],
     "prompt_number": 116
    },
    {
     "cell_type": "code",
     "collapsed": false,
     "input": [
      "arr_dict."
     ],
     "language": "python",
     "metadata": {},
     "outputs": [
      {
       "ename": "AttributeError",
       "evalue": "'dict' object has no attribute 'describe'",
       "output_type": "pyerr",
       "traceback": [
        "\u001b[0;31m---------------------------------------------------------------------------\u001b[0m\n\u001b[0;31mAttributeError\u001b[0m                            Traceback (most recent call last)",
        "\u001b[0;32m<ipython-input-117-dcbe9217a7df>\u001b[0m in \u001b[0;36m<module>\u001b[0;34m()\u001b[0m\n\u001b[0;32m----> 1\u001b[0;31m \u001b[0marr_dict\u001b[0m\u001b[0;34m.\u001b[0m\u001b[0mdescribe\u001b[0m\u001b[0;34m(\u001b[0m\u001b[0;34m)\u001b[0m\u001b[0;34m\u001b[0m\u001b[0m\n\u001b[0m",
        "\u001b[0;31mAttributeError\u001b[0m: 'dict' object has no attribute 'describe'"
       ]
      }
     ],
     "prompt_number": 117
    },
    {
     "cell_type": "code",
     "collapsed": false,
     "input": [
      "#sorting the dict into a value\n",
      "import operator\n",
      "%time sorted_arrs = sorted(arr_dict.items(), key=operator.itemgetter(1), reverse=True)\n"
     ],
     "language": "python",
     "metadata": {},
     "outputs": [
      {
       "output_type": "stream",
       "stream": "stdout",
       "text": [
        "CPU times: user 1.68 ms, sys: 134 \u00b5s, total: 1.81 ms\n",
        "Wall time: 1.82 ms\n"
       ]
      }
     ],
     "prompt_number": 122
    },
    {
     "cell_type": "code",
     "collapsed": false,
     "input": [
      "sorted_arrs"
     ],
     "language": "python",
     "metadata": {},
     "outputs": [
      {
       "metadata": {},
       "output_type": "pyout",
       "prompt_number": 115,
       "text": [
        "[('LHR', -1), ('CLT', 2), ('SVO', 2), ('LGA', 2), ('SIN', 4)]"
       ]
      }
     ],
     "prompt_number": 115
    },
    {
     "cell_type": "heading",
     "level": 4,
     "metadata": {},
     "source": [
      "Solution"
     ]
    },
    {
     "cell_type": "code",
     "collapsed": false,
     "input": [
      "for i in sorted_arrs[:10]:\n",
      "    print \"%s: %d\" %(i[0], i[1])"
     ],
     "language": "python",
     "metadata": {},
     "outputs": [
      {
       "output_type": "stream",
       "stream": "stdout",
       "text": [
        "LHR: 81439\n",
        "LAX: 64230\n",
        "LAS: 63190\n",
        "MCO: 62290\n",
        "JFK: 60060\n",
        "CDG: 58080\n",
        "SFO: 53710\n",
        "MIA: 53020\n",
        "BKK: 52660\n",
        "DXB: 52230\n"
       ]
      }
     ],
     "prompt_number": 126
    },
    {
     "cell_type": "markdown",
     "metadata": {},
     "source": [
      "We can repeat to see the last elements, we observe also negative values"
     ]
    },
    {
     "cell_type": "code",
     "collapsed": false,
     "input": [
      "sorted_arrs[-5:]"
     ],
     "language": "python",
     "metadata": {},
     "outputs": [
      {
       "metadata": {},
       "output_type": "pyout",
       "prompt_number": 124,
       "text": [
        "[('XWG', -90), ('CXR', -120), ('FLW', -190), ('MZV', -350), ('AYQ', -1290)]"
       ]
      }
     ],
     "prompt_number": 124
    },
    {
     "cell_type": "markdown",
     "metadata": {},
     "source": [
      "We can see that the values match with the solution with pandas\n",
      "\n",
      "The solution with pure python is longer and slower than with pandas"
     ]
    }
   ],
   "metadata": {}
  }
 ]
}