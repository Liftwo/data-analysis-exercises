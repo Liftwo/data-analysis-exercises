{
 "metadata": {
  "name": ""
 },
 "nbformat": 3,
 "nbformat_minor": 0,
 "worksheets": [
  {
   "cells": [
    {
     "cell_type": "code",
     "collapsed": false,
     "input": [
      "#pandas\n",
      "import numpy as np\n",
      "import pandas as pd\n",
      "\n",
      "#geographic data\n",
      "from GeoBases import GeoBase\n",
      "#geo_a = GeoBase(data='airports', verbose=False)\n",
      "geo_o = GeoBase(data='ori_por', verbose=False)\n",
      "#geo_t = GeoBase(data='stations', verbose=False)\n"
     ],
     "language": "python",
     "metadata": {},
     "outputs": [],
     "prompt_number": 17
    },
    {
     "cell_type": "code",
     "collapsed": false,
     "input": [
      "def strip_field(data):\n",
      "    \"\"\"\n",
      "    strip white characters from input data if is string\n",
      "    \"\"\"\n",
      "    if type(data) == str:\n",
      "        return data.strip()\n",
      "    return data\n",
      "#working with converter instead of multichar regex 'sep' field to avoid problem\n",
      "#https://github.com/pydata/pandas/issues/6607\n",
      "%time bks = pd.read_table('bookings.csv',sep='^', usecols=['arr_port','pax'], converters={'arr_port':strip_field})"
     ],
     "language": "python",
     "metadata": {},
     "outputs": [
      {
       "output_type": "stream",
       "stream": "stdout",
       "text": [
        "CPU times: user 26.4 s, sys: 4.8 s, total: 31.2 s\n",
        "Wall time: 49 s\n"
       ]
      }
     ],
     "prompt_number": 18
    },
    {
     "cell_type": "code",
     "collapsed": false,
     "input": [
      "#check strip worked correclty\n",
      "bks.arr_port[100]"
     ],
     "language": "python",
     "metadata": {},
     "outputs": [
      {
       "metadata": {},
       "output_type": "pyout",
       "prompt_number": 19,
       "text": [
        "'BKK'"
       ]
      }
     ],
     "prompt_number": 19
    },
    {
     "cell_type": "markdown",
     "metadata": {},
     "source": [
      "Obtain the top 10"
     ]
    },
    {
     "cell_type": "code",
     "collapsed": false,
     "input": [
      "#group and sum:\n",
      "%time arrs = bks.groupby('arr_port').sum()\n",
      "#sort inline for not copying\n",
      "%time arrs.sort('pax', ascending=False, inplace=True)\n",
      "#print\n",
      "top10 = arrs.head(10)"
     ],
     "language": "python",
     "metadata": {},
     "outputs": [
      {
       "output_type": "stream",
       "stream": "stdout",
       "text": [
        "CPU times: user 767 ms, sys: 217 ms, total: 985 ms\n",
        "Wall time: 988 ms\n",
        "CPU times: user 612 \u00b5s, sys: 100 \u00b5s, total: 712 \u00b5s\n",
        "Wall time: 715 \u00b5s\n"
       ]
      }
     ],
     "prompt_number": 20
    },
    {
     "cell_type": "code",
     "collapsed": false,
     "input": [
      "print top10"
     ],
     "language": "python",
     "metadata": {},
     "outputs": [
      {
       "output_type": "stream",
       "stream": "stdout",
       "text": [
        "            pax\n",
        "arr_port       \n",
        "LHR       88809\n",
        "MCO       70930\n",
        "LAX       70530\n",
        "LAS       69630\n",
        "JFK       66270\n",
        "CDG       64490\n",
        "BKK       59460\n",
        "MIA       58150\n",
        "SFO       58000\n",
        "DXB       55590\n"
       ]
      }
     ],
     "prompt_number": 21
    },
    {
     "cell_type": "code",
     "collapsed": false,
     "input": [
      "#geographic data\n",
      "#recover arr_port as column\n",
      "for i in top10.index:\n",
      "    print (\"Code: %s, name: %s \"% (i.strip(),geo_o.get(i.strip(), 'name')))"
     ],
     "language": "python",
     "metadata": {},
     "outputs": [
      {
       "output_type": "stream",
       "stream": "stdout",
       "text": [
        "Code: LHR, name: London Heathrow Airport \n",
        "Code: MCO, name: Orlando International Airport \n",
        "Code: LAX, name: Los Angeles International Airport \n",
        "Code: LAS, name: Mc Carran International Airport \n",
        "Code: JFK, name: John F Kennedy International Airport \n",
        "Code: CDG, name: Paris - Charles-de-Gaulle \n",
        "Code: BKK, name: Suvarnabhumi \n",
        "Code: MIA, name: Miami International Airport \n",
        "Code: SFO, name: San Francisco International Airport \n",
        "Code: DXB, name: Dubai International Airport \n"
       ]
      }
     ],
     "prompt_number": 22
    },
    {
     "cell_type": "code",
     "collapsed": false,
     "input": [],
     "language": "python",
     "metadata": {},
     "outputs": []
    }
   ],
   "metadata": {}
  }
 ]
}