{
 "metadata": {
  "name": ""
 },
 "nbformat": 3,
 "nbformat_minor": 0,
 "worksheets": [
  {
   "cells": [
    {
     "cell_type": "code",
     "collapsed": false,
     "input": [
      "import numpy as np\n",
      "import pandas as pd"
     ],
     "language": "python",
     "metadata": {},
     "outputs": [],
     "prompt_number": 7
    },
    {
     "cell_type": "code",
     "collapsed": false,
     "input": [
      "def strip_field(data):\n",
      "    \"\"\"\n",
      "    strip white characters from input data if is string\n",
      "    \"\"\"\n",
      "    if type(data) == str:\n",
      "        return data.strip()\n",
      "    return data\n",
      "\n",
      "def to_date(data):\n",
      "    \"\"\"\n",
      "    converts input data in yyyy-mm-dd format to Pandas Timestamp object.\n",
      "    If it fails returns original object\n",
      "    \"\"\"\n",
      "    try:\n",
      "        return pd.Timestamp(data, coerce=True)\n",
      "    except:\n",
      "        return None\n",
      "    "
     ],
     "language": "python",
     "metadata": {},
     "outputs": [],
     "prompt_number": 77
    },
    {
     "cell_type": "code",
     "collapsed": false,
     "input": [
      "#bookings file\n",
      "#get bookings columns names\n",
      "with open('bookings.csv') as f:\n",
      "    head = f.readline()\n",
      "    firstl = f.readline().split('^')\n",
      "    \n",
      "#split as the separator will do\n",
      "headers = head.split('^')\n",
      "bks_cols = {}\n",
      "for i in headers:\n",
      "    bks_cols[i.strip()] = i"
     ],
     "language": "python",
     "metadata": {},
     "outputs": [],
     "prompt_number": 78
    },
    {
     "cell_type": "code",
     "collapsed": false,
     "input": [
      "for i in range(len(firstl)):\n",
      "    print \"|%s| : |%s| \" % (headers[i],firstl[i])"
     ],
     "language": "python",
     "metadata": {},
     "outputs": [
      {
       "output_type": "stream",
       "stream": "stdout",
       "text": [
        "|act_date           | : |2013-03-05 00:00:00| \n",
        "|source| : |1A    | \n",
        "|pos_ctry| : |DE      | \n",
        "|pos_iata| : |a68dd7ae953c8acfb187a1af2dcbe123| \n",
        "|pos_oid  | : |1a11ae49fcbf545fd2afc1a24d88d2b7| \n",
        "|rloc          | : |ea65900e72d71f4626378e2ebd298267| \n",
        "|cre_date           | : |2013-02-22 00:00:00| \n",
        "|duration| : |1708| \n",
        "|distance| : |0| \n",
        "|dep_port| : |ZRH     | \n",
        "|dep_city| : |ZRH     | \n",
        "|dep_ctry| : |CH      | \n",
        "|arr_port| : |LHR     | \n",
        "|arr_city| : |LON     | \n",
        "|arr_ctry| : |GB      | \n",
        "|lst_port| : |ZRH     | \n",
        "|lst_city| : |ZRH     | \n",
        "|lst_ctry| : |CH      | \n",
        "|brd_port| : |LHR     | \n",
        "|brd_city| : |LON     | \n",
        "|brd_ctry| : |GB      | \n",
        "|off_port| : |ZRH     | \n",
        "|off_city| : |ZRH     | \n",
        "|off_ctry| : |CH      | \n",
        "|mkt_port| : |LHRZRH  | \n",
        "|mkt_city| : |LONZRH  | \n",
        "|mkt_ctry| : |CHGB    | \n",
        "|intl| : |1| \n",
        "|route          | : |LHRZRH         | \n",
        "|carrier| : |VI| \n",
        "|bkg_class| : |T        | \n",
        "|cab_class| : |Y        | \n",
        "|brd_time           | : |2013-03-07 08:50:00| \n",
        "|off_time           | : |2013-03-07 11:33:37| \n",
        "|pax| : |-1| \n",
        "|year| : |2013| \n",
        "|month| : |3| \n",
        "|oid      \n",
        "| : |NULL     \n",
        "| \n"
       ]
      }
     ],
     "prompt_number": 79
    },
    {
     "cell_type": "code",
     "collapsed": false,
     "input": [
      "bks_cols"
     ],
     "language": "python",
     "metadata": {},
     "outputs": [
      {
       "metadata": {},
       "output_type": "pyout",
       "prompt_number": 80,
       "text": [
        "{'act_date': 'act_date           ',\n",
        " 'arr_city': 'arr_city',\n",
        " 'arr_ctry': 'arr_ctry',\n",
        " 'arr_port': 'arr_port',\n",
        " 'bkg_class': 'bkg_class',\n",
        " 'brd_city': 'brd_city',\n",
        " 'brd_ctry': 'brd_ctry',\n",
        " 'brd_port': 'brd_port',\n",
        " 'brd_time': 'brd_time           ',\n",
        " 'cab_class': 'cab_class',\n",
        " 'carrier': 'carrier',\n",
        " 'cre_date': 'cre_date           ',\n",
        " 'dep_city': 'dep_city',\n",
        " 'dep_ctry': 'dep_ctry',\n",
        " 'dep_port': 'dep_port',\n",
        " 'distance': 'distance',\n",
        " 'duration': 'duration',\n",
        " 'intl': 'intl',\n",
        " 'lst_city': 'lst_city',\n",
        " 'lst_ctry': 'lst_ctry',\n",
        " 'lst_port': 'lst_port',\n",
        " 'mkt_city': 'mkt_city',\n",
        " 'mkt_ctry': 'mkt_ctry',\n",
        " 'mkt_port': 'mkt_port',\n",
        " 'month': 'month',\n",
        " 'off_city': 'off_city',\n",
        " 'off_ctry': 'off_ctry',\n",
        " 'off_port': 'off_port',\n",
        " 'off_time': 'off_time           ',\n",
        " 'oid': 'oid      \\n',\n",
        " 'pax': 'pax',\n",
        " 'pos_ctry': 'pos_ctry',\n",
        " 'pos_iata': 'pos_iata',\n",
        " 'pos_oid': 'pos_oid  ',\n",
        " 'rloc': 'rloc          ',\n",
        " 'route': 'route          ',\n",
        " 'source': 'source',\n",
        " 'year': 'year'}"
       ]
      }
     ],
     "prompt_number": 80
    },
    {
     "cell_type": "code",
     "collapsed": false,
     "input": [
      "bks_store.close()"
     ],
     "language": "python",
     "metadata": {},
     "outputs": [],
     "prompt_number": 81
    },
    {
     "cell_type": "code",
     "collapsed": false,
     "input": [
      "bks_store = pd.HDFStore('bks_store.h5',mode='w')"
     ],
     "language": "python",
     "metadata": {},
     "outputs": [],
     "prompt_number": 82
    },
    {
     "cell_type": "code",
     "collapsed": false,
     "input": [
      "bks_load_cols = [bks_cols['arr_port'], \n",
      "        bks_cols['dep_port'], \n",
      "        bks_cols['pos_oid'], \n",
      "        bks_cols['pos_ctry'], \n",
      "        bks_cols['route'],\n",
      "        bks_cols['act_date'],\n",
      "        bks_cols['cre_date'],\n",
      "        ]"
     ],
     "language": "python",
     "metadata": {},
     "outputs": [],
     "prompt_number": 83
    },
    {
     "cell_type": "code",
     "collapsed": false,
     "input": [
      "bks_data_conv = {bks_cols['arr_port']:strip_field, \n",
      "                            bks_cols['dep_port']:strip_field, \n",
      "                            bks_cols['pos_oid']:strip_field, \n",
      "                            bks_cols['pos_ctry']:strip_field, \n",
      "                            bks_cols['route']:strip_field,\n",
      "                            bks_cols['act_date']:to_date,\n",
      "                            bks_cols['cre_date']:to_date \n",
      "                            }"
     ],
     "language": "python",
     "metadata": {},
     "outputs": [],
     "prompt_number": 84
    },
    {
     "cell_type": "code",
     "collapsed": false,
     "input": [
      "bks_reader = pd.read_table('bookings.csv',sep='^',\n",
      "                           usecols=bks_load_cols,\n",
      "                           chunksize=100000,\n",
      "                           converters=bks_data_conv\n",
      "                           )"
     ],
     "language": "python",
     "metadata": {},
     "outputs": [],
     "prompt_number": 85
    },
    {
     "cell_type": "code",
     "collapsed": false,
     "input": [
      "for chunk in bks_reader:\n",
      "    #strip all white chars from data title\n",
      "    chunk.rename(columns=lambda x: x.strip(), inplace=True)\n",
      "    chunk.dropna(inplace=True)\n",
      "    bks_store.append('df',chunk)"
     ],
     "language": "python",
     "metadata": {},
     "outputs": [],
     "prompt_number": 86
    },
    {
     "cell_type": "code",
     "collapsed": false,
     "input": [],
     "language": "python",
     "metadata": {},
     "outputs": []
    }
   ],
   "metadata": {}
  }
 ]
}