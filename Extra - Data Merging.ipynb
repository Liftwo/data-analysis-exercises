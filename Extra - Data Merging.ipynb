{
 "metadata": {
  "name": ""
 },
 "nbformat": 3,
 "nbformat_minor": 0,
 "worksheets": [
  {
   "cells": [
    {
     "cell_type": "code",
     "collapsed": false,
     "input": [
      "import numpy as np\n",
      "import pandas as pd"
     ],
     "language": "python",
     "metadata": {},
     "outputs": [],
     "prompt_number": 7
    },
    {
     "cell_type": "code",
     "collapsed": false,
     "input": [
      "def strip_field(data):\n",
      "    \"\"\"\n",
      "    strip white characters from input data if is string\n",
      "    \"\"\"\n",
      "    if type(data) == str:\n",
      "        return data.strip()\n",
      "    return data\n",
      "\n",
      "def to_date(data):\n",
      "    \"\"\"\n",
      "    converts input data in yyyy-mm-dd format to Pandas Timestamp object.\n",
      "    If it fails returns original object\n",
      "    \"\"\"\n",
      "    try:\n",
      "        return pd.Timestamp(data)\n",
      "    except:\n",
      "        return data\n",
      "    "
     ],
     "language": "python",
     "metadata": {},
     "outputs": [],
     "prompt_number": 11
    },
    {
     "cell_type": "code",
     "collapsed": false,
     "input": [
      "#bookings file\n",
      "#get bookings columns names\n",
      "with open('bookings.csv') as f:\n",
      "    head = f.readline()\n",
      "    firstl = f.readline().split('^')\n",
      "    \n",
      "#split as the separator will do\n",
      "headers = head.split('^')\n",
      "bks_cols = {}\n",
      "for i in headers:\n",
      "    bks_cols[i.strip()] = i"
     ],
     "language": "python",
     "metadata": {},
     "outputs": [],
     "prompt_number": 51
    },
    {
     "cell_type": "code",
     "collapsed": false,
     "input": [
      "for i in range(len(firstl)):\n",
      "    print \"|%s| : |%s| \" % (headers[i],firstl[i])"
     ],
     "language": "python",
     "metadata": {},
     "outputs": [
      {
       "output_type": "stream",
       "stream": "stdout",
       "text": [
        "|act_date           | : |2013-03-05 00:00:00| \n",
        "|source| : |1A    | \n",
        "|pos_ctry| : |DE      | \n",
        "|pos_iata| : |a68dd7ae953c8acfb187a1af2dcbe123| \n",
        "|pos_oid  | : |1a11ae49fcbf545fd2afc1a24d88d2b7| \n",
        "|rloc          | : |ea65900e72d71f4626378e2ebd298267| \n",
        "|cre_date           | : |2013-02-22 00:00:00| \n",
        "|duration| : |1708| \n",
        "|distance| : |0| \n",
        "|dep_port| : |ZRH     | \n",
        "|dep_city| : |ZRH     | \n",
        "|dep_ctry| : |CH      | \n",
        "|arr_port| : |LHR     | \n",
        "|arr_city| : |LON     | \n",
        "|arr_ctry| : |GB      | \n",
        "|lst_port| : |ZRH     | \n",
        "|lst_city| : |ZRH     | \n",
        "|lst_ctry| : |CH      | \n",
        "|brd_port| : |LHR     | \n",
        "|brd_city| : |LON     | \n",
        "|brd_ctry| : |GB      | \n",
        "|off_port| : |ZRH     | \n",
        "|off_city| : |ZRH     | \n",
        "|off_ctry| : |CH      | \n",
        "|mkt_port| : |LHRZRH  | \n",
        "|mkt_city| : |LONZRH  | \n",
        "|mkt_ctry| : |CHGB    | \n",
        "|intl| : |1| \n",
        "|route          | : |LHRZRH         | \n",
        "|carrier| : |VI| \n",
        "|bkg_class| : |T        | \n",
        "|cab_class| : |Y        | \n",
        "|brd_time           | : |2013-03-07 08:50:00| \n",
        "|off_time           | : |2013-03-07 11:33:37| \n",
        "|pax| : |-1| \n",
        "|year| : |2013| \n",
        "|month| : |3| \n",
        "|oid      \n",
        "| : |NULL     \n",
        "| \n"
       ]
      }
     ],
     "prompt_number": 52
    },
    {
     "cell_type": "code",
     "collapsed": false,
     "input": [
      "bks_cols"
     ],
     "language": "python",
     "metadata": {},
     "outputs": [
      {
       "metadata": {},
       "output_type": "pyout",
       "prompt_number": 53,
       "text": [
        "{'act_date': 'act_date           ',\n",
        " 'arr_city': 'arr_city',\n",
        " 'arr_ctry': 'arr_ctry',\n",
        " 'arr_port': 'arr_port',\n",
        " 'bkg_class': 'bkg_class',\n",
        " 'brd_city': 'brd_city',\n",
        " 'brd_ctry': 'brd_ctry',\n",
        " 'brd_port': 'brd_port',\n",
        " 'brd_time': 'brd_time           ',\n",
        " 'cab_class': 'cab_class',\n",
        " 'carrier': 'carrier',\n",
        " 'cre_date': 'cre_date           ',\n",
        " 'dep_city': 'dep_city',\n",
        " 'dep_ctry': 'dep_ctry',\n",
        " 'dep_port': 'dep_port',\n",
        " 'distance': 'distance',\n",
        " 'duration': 'duration',\n",
        " 'intl': 'intl',\n",
        " 'lst_city': 'lst_city',\n",
        " 'lst_ctry': 'lst_ctry',\n",
        " 'lst_port': 'lst_port',\n",
        " 'mkt_city': 'mkt_city',\n",
        " 'mkt_ctry': 'mkt_ctry',\n",
        " 'mkt_port': 'mkt_port',\n",
        " 'month': 'month',\n",
        " 'off_city': 'off_city',\n",
        " 'off_ctry': 'off_ctry',\n",
        " 'off_port': 'off_port',\n",
        " 'off_time': 'off_time           ',\n",
        " 'oid': 'oid      \\n',\n",
        " 'pax': 'pax',\n",
        " 'pos_ctry': 'pos_ctry',\n",
        " 'pos_iata': 'pos_iata',\n",
        " 'pos_oid': 'pos_oid  ',\n",
        " 'rloc': 'rloc          ',\n",
        " 'route': 'route          ',\n",
        " 'source': 'source',\n",
        " 'year': 'year'}"
       ]
      }
     ],
     "prompt_number": 53
    },
    {
     "cell_type": "code",
     "collapsed": false,
     "input": [
      "bks_store.close()"
     ],
     "language": "python",
     "metadata": {},
     "outputs": [],
     "prompt_number": 73
    },
    {
     "cell_type": "code",
     "collapsed": false,
     "input": [
      "bks_store = pd.HDFStore('bks_store.h5',mode='w')"
     ],
     "language": "python",
     "metadata": {},
     "outputs": [],
     "prompt_number": 74
    },
    {
     "cell_type": "code",
     "collapsed": false,
     "input": [
      "bks_load_cols = [bks_cols['arr_port'], \n",
      "        bks_cols['dep_port'], \n",
      "        bks_cols['pos_oid'], \n",
      "        bks_cols['pos_ctry'], \n",
      "        bks_cols['route'],\n",
      "        bks_cols['act_date'],\n",
      "        bks_cols['cre_date'],\n",
      "        ]"
     ],
     "language": "python",
     "metadata": {},
     "outputs": [],
     "prompt_number": 69
    },
    {
     "cell_type": "code",
     "collapsed": false,
     "input": [
      "bks_data_conv = {bks_cols['arr_port']:strip_field, \n",
      "                            bks_cols['dep_port']:strip_field, \n",
      "                            bks_cols['pos_oid']:strip_field, \n",
      "                            bks_cols['pos_ctry']:strip_field, \n",
      "                            bks_cols['route']:strip_field,\n",
      "                            bks_cols['act_date']:to_date,\n",
      "                            bks_cols['cre_date']:to_date \n",
      "                            }"
     ],
     "language": "python",
     "metadata": {},
     "outputs": [],
     "prompt_number": 70
    },
    {
     "cell_type": "code",
     "collapsed": false,
     "input": [
      "bks_reader = pd.read_table('bookings.csv',sep='^',\n",
      "                           usecols=bks_load_cols,\n",
      "                           chunksize=100000,\n",
      "                           converters=bks_data_conv\n",
      "                           )"
     ],
     "language": "python",
     "metadata": {},
     "outputs": [],
     "prompt_number": 75
    },
    {
     "cell_type": "code",
     "collapsed": false,
     "input": [
      "for chunk in bks_reader:\n",
      "    #strip all white chars from data title\n",
      "    chunk.rename(columns=lambda x: x.strip(), inplace=True)\n",
      "    chunk.dropna(inplace=True)\n",
      "    bks_store.append('df',chunk)"
     ],
     "language": "python",
     "metadata": {},
     "outputs": [],
     "prompt_number": "*"
    },
    {
     "cell_type": "code",
     "collapsed": false,
     "input": [
      "chunk.head()"
     ],
     "language": "python",
     "metadata": {},
     "outputs": [
      {
       "html": [
        "<div style=\"max-height:1000px;max-width:1500px;overflow:auto;\">\n",
        "<table border=\"1\" class=\"dataframe\">\n",
        "  <thead>\n",
        "    <tr style=\"text-align: right;\">\n",
        "      <th></th>\n",
        "      <th>act_date</th>\n",
        "      <th>pos_ctry</th>\n",
        "      <th>pos_oid</th>\n",
        "      <th>cre_date</th>\n",
        "      <th>dep_port</th>\n",
        "      <th>arr_port</th>\n",
        "      <th>route</th>\n",
        "    </tr>\n",
        "  </thead>\n",
        "  <tbody>\n",
        "    <tr>\n",
        "      <th>0</th>\n",
        "      <td>2013-03-05</td>\n",
        "      <td> DE</td>\n",
        "      <td> 1a11ae49fcbf545fd2afc1a24d88d2b7</td>\n",
        "      <td>2013-02-22</td>\n",
        "      <td> ZRH</td>\n",
        "      <td> LHR</td>\n",
        "      <td>    LHRZRH</td>\n",
        "    </tr>\n",
        "    <tr>\n",
        "      <th>1</th>\n",
        "      <td>2013-03-26</td>\n",
        "      <td> US</td>\n",
        "      <td> 7437560d8f276d6d05eeb806d9e7edee</td>\n",
        "      <td>2013-03-26</td>\n",
        "      <td> SAL</td>\n",
        "      <td> CLT</td>\n",
        "      <td> SALATLCLT</td>\n",
        "    </tr>\n",
        "    <tr>\n",
        "      <th>2</th>\n",
        "      <td>2013-03-26</td>\n",
        "      <td> US</td>\n",
        "      <td> 7437560d8f276d6d05eeb806d9e7edee</td>\n",
        "      <td>2013-03-26</td>\n",
        "      <td> SAL</td>\n",
        "      <td> CLT</td>\n",
        "      <td> CLTATLSAL</td>\n",
        "    </tr>\n",
        "    <tr>\n",
        "      <th>3</th>\n",
        "      <td>2013-03-26</td>\n",
        "      <td> AU</td>\n",
        "      <td> 36472c6dbaf7afec9136ac40364e2794</td>\n",
        "      <td>2013-03-26</td>\n",
        "      <td> AKL</td>\n",
        "      <td> SVO</td>\n",
        "      <td> AKLHKGSVO</td>\n",
        "    </tr>\n",
        "    <tr>\n",
        "      <th>4</th>\n",
        "      <td>2013-03-26</td>\n",
        "      <td> AU</td>\n",
        "      <td> 36472c6dbaf7afec9136ac40364e2794</td>\n",
        "      <td>2013-03-26</td>\n",
        "      <td> AKL</td>\n",
        "      <td> SVO</td>\n",
        "      <td> SVOHKGAKL</td>\n",
        "    </tr>\n",
        "  </tbody>\n",
        "</table>\n",
        "</div>"
       ],
       "metadata": {},
       "output_type": "pyout",
       "prompt_number": 58,
       "text": [
        "    act_date pos_ctry                           pos_oid   cre_date dep_port  \\\n",
        "0 2013-03-05       DE  1a11ae49fcbf545fd2afc1a24d88d2b7 2013-02-22      ZRH   \n",
        "1 2013-03-26       US  7437560d8f276d6d05eeb806d9e7edee 2013-03-26      SAL   \n",
        "2 2013-03-26       US  7437560d8f276d6d05eeb806d9e7edee 2013-03-26      SAL   \n",
        "3 2013-03-26       AU  36472c6dbaf7afec9136ac40364e2794 2013-03-26      AKL   \n",
        "4 2013-03-26       AU  36472c6dbaf7afec9136ac40364e2794 2013-03-26      AKL   \n",
        "\n",
        "  arr_port      route  \n",
        "0      LHR     LHRZRH  \n",
        "1      CLT  SALATLCLT  \n",
        "2      CLT  CLTATLSAL  \n",
        "3      SVO  AKLHKGSVO  \n",
        "4      SVO  SVOHKGAKL  "
       ]
      }
     ],
     "prompt_number": 58
    },
    {
     "cell_type": "code",
     "collapsed": false,
     "input": [
      "chunk.describe()"
     ],
     "language": "python",
     "metadata": {},
     "outputs": [
      {
       "html": [
        "<div style=\"max-height:1000px;max-width:1500px;overflow:auto;\">\n",
        "<table border=\"1\" class=\"dataframe\">\n",
        "  <thead>\n",
        "    <tr style=\"text-align: right;\">\n",
        "      <th></th>\n",
        "      <th>act_date</th>\n",
        "      <th>pos_ctry</th>\n",
        "      <th>pos_oid</th>\n",
        "      <th>cre_date</th>\n",
        "      <th>dep_port</th>\n",
        "      <th>arr_port</th>\n",
        "      <th>route</th>\n",
        "    </tr>\n",
        "  </thead>\n",
        "  <tbody>\n",
        "    <tr>\n",
        "      <th>count</th>\n",
        "      <td>              100000</td>\n",
        "      <td> 100000</td>\n",
        "      <td>                           100000</td>\n",
        "      <td>              100000</td>\n",
        "      <td> 100000</td>\n",
        "      <td> 100000</td>\n",
        "      <td> 100000</td>\n",
        "    </tr>\n",
        "    <tr>\n",
        "      <th>unique</th>\n",
        "      <td>                 123</td>\n",
        "      <td>    189</td>\n",
        "      <td>                            16909</td>\n",
        "      <td>                 394</td>\n",
        "      <td>   1374</td>\n",
        "      <td>   1506</td>\n",
        "      <td>  36344</td>\n",
        "    </tr>\n",
        "    <tr>\n",
        "      <th>top</th>\n",
        "      <td> 2013-03-12 00:00:00</td>\n",
        "      <td>     US</td>\n",
        "      <td> 1490c3c5f95f04fa076fe15c775a80a9</td>\n",
        "      <td> 2013-03-12 00:00:00</td>\n",
        "      <td>    LHR</td>\n",
        "      <td>    LHR</td>\n",
        "      <td> RUHLHE</td>\n",
        "    </tr>\n",
        "    <tr>\n",
        "      <th>freq</th>\n",
        "      <td>                2542</td>\n",
        "      <td>  30824</td>\n",
        "      <td>                             1695</td>\n",
        "      <td>                2997</td>\n",
        "      <td>   2773</td>\n",
        "      <td>   2110</td>\n",
        "      <td>    132</td>\n",
        "    </tr>\n",
        "    <tr>\n",
        "      <th>first</th>\n",
        "      <td> 2013-01-01 00:00:00</td>\n",
        "      <td>    NaN</td>\n",
        "      <td>                              NaN</td>\n",
        "      <td> 2011-09-12 00:00:00</td>\n",
        "      <td>    NaN</td>\n",
        "      <td>    NaN</td>\n",
        "      <td>    NaN</td>\n",
        "    </tr>\n",
        "    <tr>\n",
        "      <th>last</th>\n",
        "      <td> 2013-05-31 00:00:00</td>\n",
        "      <td>    NaN</td>\n",
        "      <td>                              NaN</td>\n",
        "      <td> 2013-05-31 00:00:00</td>\n",
        "      <td>    NaN</td>\n",
        "      <td>    NaN</td>\n",
        "      <td>    NaN</td>\n",
        "    </tr>\n",
        "  </tbody>\n",
        "</table>\n",
        "</div>"
       ],
       "metadata": {},
       "output_type": "pyout",
       "prompt_number": 59,
       "text": [
        "                   act_date pos_ctry                           pos_oid  \\\n",
        "count                100000   100000                            100000   \n",
        "unique                  123      189                             16909   \n",
        "top     2013-03-12 00:00:00       US  1490c3c5f95f04fa076fe15c775a80a9   \n",
        "freq                   2542    30824                              1695   \n",
        "first   2013-01-01 00:00:00      NaN                               NaN   \n",
        "last    2013-05-31 00:00:00      NaN                               NaN   \n",
        "\n",
        "                   cre_date dep_port arr_port   route  \n",
        "count                100000   100000   100000  100000  \n",
        "unique                  394     1374     1506   36344  \n",
        "top     2013-03-12 00:00:00      LHR      LHR  RUHLHE  \n",
        "freq                   2997     2773     2110     132  \n",
        "first   2011-09-12 00:00:00      NaN      NaN     NaN  \n",
        "last    2013-05-31 00:00:00      NaN      NaN     NaN  "
       ]
      }
     ],
     "prompt_number": 59
    },
    {
     "cell_type": "code",
     "collapsed": false,
     "input": [
      "chunk.dtypes"
     ],
     "language": "python",
     "metadata": {},
     "outputs": [
      {
       "metadata": {},
       "output_type": "pyout",
       "prompt_number": 60,
       "text": [
        "act_date    datetime64[ns]\n",
        "pos_ctry            object\n",
        "pos_oid             object\n",
        "cre_date    datetime64[ns]\n",
        "dep_port            object\n",
        "arr_port            object\n",
        "route               object\n",
        "dtype: object"
       ]
      }
     ],
     "prompt_number": 60
    },
    {
     "cell_type": "code",
     "collapsed": false,
     "input": [
      "chunk.columns"
     ],
     "language": "python",
     "metadata": {},
     "outputs": [
      {
       "metadata": {},
       "output_type": "pyout",
       "prompt_number": 61,
       "text": [
        "Index([u'act_date', u'pos_ctry', u'pos_oid', u'cre_date', u'dep_port', u'arr_port', u'route'], dtype='object')"
       ]
      }
     ],
     "prompt_number": 61
    },
    {
     "cell_type": "code",
     "collapsed": false,
     "input": [
      "type(chunk.act_date[0])"
     ],
     "language": "python",
     "metadata": {},
     "outputs": [
      {
       "metadata": {},
       "output_type": "pyout",
       "prompt_number": 62,
       "text": [
        "pandas.tslib.Timestamp"
       ]
      }
     ],
     "prompt_number": 62
    },
    {
     "cell_type": "code",
     "collapsed": false,
     "input": [],
     "language": "python",
     "metadata": {},
     "outputs": []
    }
   ],
   "metadata": {}
  }
 ]
}